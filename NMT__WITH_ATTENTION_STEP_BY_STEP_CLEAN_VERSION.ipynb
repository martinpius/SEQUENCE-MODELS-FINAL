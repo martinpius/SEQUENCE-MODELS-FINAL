{
  "nbformat": 4,
  "nbformat_minor": 0,
  "metadata": {
    "colab": {
      "name": "NMT__WITH ATTENTION_STEP BY STEP_CLEAN_VERSION",
      "provenance": [],
      "authorship_tag": "ABX9TyPkFGZGeHxo0vyvHWWu+X0Q",
      "include_colab_link": true
    },
    "kernelspec": {
      "name": "python3",
      "display_name": "Python 3"
    },
    "language_info": {
      "name": "python"
    },
    "accelerator": "GPU"
  },
  "cells": [
    {
      "cell_type": "markdown",
      "metadata": {
        "id": "view-in-github",
        "colab_type": "text"
      },
      "source": [
        "<a href=\"https://colab.research.google.com/github/martinpius/SEQUENCE-MODELS-FINAL/blob/main/NMT__WITH_ATTENTION_STEP_BY_STEP_CLEAN_VERSION.ipynb\" target=\"_parent\"><img src=\"https://colab.research.google.com/assets/colab-badge.svg\" alt=\"Open In Colab\"/></a>"
      ]
    },
    {
      "cell_type": "code",
      "metadata": {
        "colab": {
          "base_uri": "https://localhost:8080/"
        },
        "id": "Al_r3dNlBm8v",
        "outputId": "4b2ff7de-2bc7-4a91-c1d2-f8e267ca2bc4"
      },
      "source": [
        "from google.colab import drive\n",
        "drive.mount(\"/content/drive\", force_remount = True)\n",
        "try:\n",
        "  COLAB = True\n",
        "  import torch\n",
        "  print(f\">>>> You are on Google CoLaB with Pytorch version {torch.__version__}\")\n",
        "except Exception as e:\n",
        "  print(f\">>>> {type(e)}: {e}\\n>>>> please correct {type(e)} and reload your Google drive\")\n",
        "  COLAB = False\n",
        "if torch.cuda.is_available():\n",
        "  device = torch.device(\"cuda\")\n",
        "else:\n",
        "  device = torch.device(\"cpu\")\n",
        "def time_fmt(t: float = 123.918)->float:\n",
        "  h = int(t / (60 * 60))\n",
        "  m = int(t % (60 * 60) / 60)\n",
        "  s = int(t % 60)\n",
        "  return f\"hrs: {h} min: {m:>02} sec: {s:>05.2f}\"\n",
        "print(f\">>>> testing the time formating function.........\\n>>>> time elapsed\\t{time_fmt()}\")"
      ],
      "execution_count": 1,
      "outputs": [
        {
          "output_type": "stream",
          "text": [
            "Mounted at /content/drive\n",
            ">>>> You are on Google CoLaB with Pytorch version 1.9.0+cu102\n",
            ">>>> testing the time formating function.........\n",
            ">>>> time elapsed\thrs: 0 min: 02 sec: 03.00\n"
          ],
          "name": "stdout"
        }
      ]
    },
    {
      "cell_type": "code",
      "metadata": {
        "id": "Z7ECJRDyDR-J"
      },
      "source": [
        "import torch, spacy, time, datetime, random, math, sys\n",
        "import numpy as np\n",
        "from tensorflow import summary\n",
        "from torchtext.legacy.datasets import Multi30k\n",
        "from torchtext.legacy.data import BucketIterator, Field\n",
        "from torch import nn\n",
        "from torch import optim\n",
        "from tqdm import tqdm\n",
        "%load_ext tensorboard\n"
      ],
      "execution_count": 2,
      "outputs": []
    },
    {
      "cell_type": "code",
      "metadata": {
        "colab": {
          "base_uri": "https://localhost:8080/"
        },
        "id": "6cuVaOVEEND8",
        "outputId": "fae95baa-3780-4181-f283-597148704249"
      },
      "source": [
        "!python -m spacy download en_core_web_sm\n",
        "!python -m spacy download de_core_news_sm\n",
        "en_tkn = spacy.load(\"en_core_web_sm\")\n",
        "de_tkn = spacy.load(\"de_core_news_sm\")\n"
      ],
      "execution_count": 3,
      "outputs": [
        {
          "output_type": "stream",
          "text": [
            "Collecting en_core_web_sm==2.2.5\n",
            "  Downloading https://github.com/explosion/spacy-models/releases/download/en_core_web_sm-2.2.5/en_core_web_sm-2.2.5.tar.gz (12.0 MB)\n",
            "\u001b[K     |████████████████████████████████| 12.0 MB 6.9 MB/s \n",
            "\u001b[?25hRequirement already satisfied: spacy>=2.2.2 in /usr/local/lib/python3.7/dist-packages (from en_core_web_sm==2.2.5) (2.2.4)\n",
            "Requirement already satisfied: numpy>=1.15.0 in /usr/local/lib/python3.7/dist-packages (from spacy>=2.2.2->en_core_web_sm==2.2.5) (1.19.5)\n",
            "Requirement already satisfied: thinc==7.4.0 in /usr/local/lib/python3.7/dist-packages (from spacy>=2.2.2->en_core_web_sm==2.2.5) (7.4.0)\n",
            "Requirement already satisfied: preshed<3.1.0,>=3.0.2 in /usr/local/lib/python3.7/dist-packages (from spacy>=2.2.2->en_core_web_sm==2.2.5) (3.0.5)\n",
            "Requirement already satisfied: wasabi<1.1.0,>=0.4.0 in /usr/local/lib/python3.7/dist-packages (from spacy>=2.2.2->en_core_web_sm==2.2.5) (0.8.2)\n",
            "Requirement already satisfied: cymem<2.1.0,>=2.0.2 in /usr/local/lib/python3.7/dist-packages (from spacy>=2.2.2->en_core_web_sm==2.2.5) (2.0.5)\n",
            "Requirement already satisfied: murmurhash<1.1.0,>=0.28.0 in /usr/local/lib/python3.7/dist-packages (from spacy>=2.2.2->en_core_web_sm==2.2.5) (1.0.5)\n",
            "Requirement already satisfied: plac<1.2.0,>=0.9.6 in /usr/local/lib/python3.7/dist-packages (from spacy>=2.2.2->en_core_web_sm==2.2.5) (1.1.3)\n",
            "Requirement already satisfied: catalogue<1.1.0,>=0.0.7 in /usr/local/lib/python3.7/dist-packages (from spacy>=2.2.2->en_core_web_sm==2.2.5) (1.0.0)\n",
            "Requirement already satisfied: blis<0.5.0,>=0.4.0 in /usr/local/lib/python3.7/dist-packages (from spacy>=2.2.2->en_core_web_sm==2.2.5) (0.4.1)\n",
            "Requirement already satisfied: setuptools in /usr/local/lib/python3.7/dist-packages (from spacy>=2.2.2->en_core_web_sm==2.2.5) (57.4.0)\n",
            "Requirement already satisfied: srsly<1.1.0,>=1.0.2 in /usr/local/lib/python3.7/dist-packages (from spacy>=2.2.2->en_core_web_sm==2.2.5) (1.0.5)\n",
            "Requirement already satisfied: tqdm<5.0.0,>=4.38.0 in /usr/local/lib/python3.7/dist-packages (from spacy>=2.2.2->en_core_web_sm==2.2.5) (4.62.0)\n",
            "Requirement already satisfied: requests<3.0.0,>=2.13.0 in /usr/local/lib/python3.7/dist-packages (from spacy>=2.2.2->en_core_web_sm==2.2.5) (2.23.0)\n",
            "Requirement already satisfied: importlib-metadata>=0.20 in /usr/local/lib/python3.7/dist-packages (from catalogue<1.1.0,>=0.0.7->spacy>=2.2.2->en_core_web_sm==2.2.5) (4.6.4)\n",
            "Requirement already satisfied: zipp>=0.5 in /usr/local/lib/python3.7/dist-packages (from importlib-metadata>=0.20->catalogue<1.1.0,>=0.0.7->spacy>=2.2.2->en_core_web_sm==2.2.5) (3.5.0)\n",
            "Requirement already satisfied: typing-extensions>=3.6.4 in /usr/local/lib/python3.7/dist-packages (from importlib-metadata>=0.20->catalogue<1.1.0,>=0.0.7->spacy>=2.2.2->en_core_web_sm==2.2.5) (3.7.4.3)\n",
            "Requirement already satisfied: chardet<4,>=3.0.2 in /usr/local/lib/python3.7/dist-packages (from requests<3.0.0,>=2.13.0->spacy>=2.2.2->en_core_web_sm==2.2.5) (3.0.4)\n",
            "Requirement already satisfied: certifi>=2017.4.17 in /usr/local/lib/python3.7/dist-packages (from requests<3.0.0,>=2.13.0->spacy>=2.2.2->en_core_web_sm==2.2.5) (2021.5.30)\n",
            "Requirement already satisfied: idna<3,>=2.5 in /usr/local/lib/python3.7/dist-packages (from requests<3.0.0,>=2.13.0->spacy>=2.2.2->en_core_web_sm==2.2.5) (2.10)\n",
            "Requirement already satisfied: urllib3!=1.25.0,!=1.25.1,<1.26,>=1.21.1 in /usr/local/lib/python3.7/dist-packages (from requests<3.0.0,>=2.13.0->spacy>=2.2.2->en_core_web_sm==2.2.5) (1.24.3)\n",
            "\u001b[38;5;2m✔ Download and installation successful\u001b[0m\n",
            "You can now load the model via spacy.load('en_core_web_sm')\n",
            "Collecting de_core_news_sm==2.2.5\n",
            "  Downloading https://github.com/explosion/spacy-models/releases/download/de_core_news_sm-2.2.5/de_core_news_sm-2.2.5.tar.gz (14.9 MB)\n",
            "\u001b[K     |████████████████████████████████| 14.9 MB 7.7 MB/s \n",
            "\u001b[?25hRequirement already satisfied: spacy>=2.2.2 in /usr/local/lib/python3.7/dist-packages (from de_core_news_sm==2.2.5) (2.2.4)\n",
            "Requirement already satisfied: thinc==7.4.0 in /usr/local/lib/python3.7/dist-packages (from spacy>=2.2.2->de_core_news_sm==2.2.5) (7.4.0)\n",
            "Requirement already satisfied: blis<0.5.0,>=0.4.0 in /usr/local/lib/python3.7/dist-packages (from spacy>=2.2.2->de_core_news_sm==2.2.5) (0.4.1)\n",
            "Requirement already satisfied: murmurhash<1.1.0,>=0.28.0 in /usr/local/lib/python3.7/dist-packages (from spacy>=2.2.2->de_core_news_sm==2.2.5) (1.0.5)\n",
            "Requirement already satisfied: srsly<1.1.0,>=1.0.2 in /usr/local/lib/python3.7/dist-packages (from spacy>=2.2.2->de_core_news_sm==2.2.5) (1.0.5)\n",
            "Requirement already satisfied: requests<3.0.0,>=2.13.0 in /usr/local/lib/python3.7/dist-packages (from spacy>=2.2.2->de_core_news_sm==2.2.5) (2.23.0)\n",
            "Requirement already satisfied: wasabi<1.1.0,>=0.4.0 in /usr/local/lib/python3.7/dist-packages (from spacy>=2.2.2->de_core_news_sm==2.2.5) (0.8.2)\n",
            "Requirement already satisfied: catalogue<1.1.0,>=0.0.7 in /usr/local/lib/python3.7/dist-packages (from spacy>=2.2.2->de_core_news_sm==2.2.5) (1.0.0)\n",
            "Requirement already satisfied: tqdm<5.0.0,>=4.38.0 in /usr/local/lib/python3.7/dist-packages (from spacy>=2.2.2->de_core_news_sm==2.2.5) (4.62.0)\n",
            "Requirement already satisfied: numpy>=1.15.0 in /usr/local/lib/python3.7/dist-packages (from spacy>=2.2.2->de_core_news_sm==2.2.5) (1.19.5)\n",
            "Requirement already satisfied: cymem<2.1.0,>=2.0.2 in /usr/local/lib/python3.7/dist-packages (from spacy>=2.2.2->de_core_news_sm==2.2.5) (2.0.5)\n",
            "Requirement already satisfied: setuptools in /usr/local/lib/python3.7/dist-packages (from spacy>=2.2.2->de_core_news_sm==2.2.5) (57.4.0)\n",
            "Requirement already satisfied: plac<1.2.0,>=0.9.6 in /usr/local/lib/python3.7/dist-packages (from spacy>=2.2.2->de_core_news_sm==2.2.5) (1.1.3)\n",
            "Requirement already satisfied: preshed<3.1.0,>=3.0.2 in /usr/local/lib/python3.7/dist-packages (from spacy>=2.2.2->de_core_news_sm==2.2.5) (3.0.5)\n",
            "Requirement already satisfied: importlib-metadata>=0.20 in /usr/local/lib/python3.7/dist-packages (from catalogue<1.1.0,>=0.0.7->spacy>=2.2.2->de_core_news_sm==2.2.5) (4.6.4)\n",
            "Requirement already satisfied: typing-extensions>=3.6.4 in /usr/local/lib/python3.7/dist-packages (from importlib-metadata>=0.20->catalogue<1.1.0,>=0.0.7->spacy>=2.2.2->de_core_news_sm==2.2.5) (3.7.4.3)\n",
            "Requirement already satisfied: zipp>=0.5 in /usr/local/lib/python3.7/dist-packages (from importlib-metadata>=0.20->catalogue<1.1.0,>=0.0.7->spacy>=2.2.2->de_core_news_sm==2.2.5) (3.5.0)\n",
            "Requirement already satisfied: chardet<4,>=3.0.2 in /usr/local/lib/python3.7/dist-packages (from requests<3.0.0,>=2.13.0->spacy>=2.2.2->de_core_news_sm==2.2.5) (3.0.4)\n",
            "Requirement already satisfied: certifi>=2017.4.17 in /usr/local/lib/python3.7/dist-packages (from requests<3.0.0,>=2.13.0->spacy>=2.2.2->de_core_news_sm==2.2.5) (2021.5.30)\n",
            "Requirement already satisfied: urllib3!=1.25.0,!=1.25.1,<1.26,>=1.21.1 in /usr/local/lib/python3.7/dist-packages (from requests<3.0.0,>=2.13.0->spacy>=2.2.2->de_core_news_sm==2.2.5) (1.24.3)\n",
            "Requirement already satisfied: idna<3,>=2.5 in /usr/local/lib/python3.7/dist-packages (from requests<3.0.0,>=2.13.0->spacy>=2.2.2->de_core_news_sm==2.2.5) (2.10)\n",
            "\u001b[38;5;2m✔ Download and installation successful\u001b[0m\n",
            "You can now load the model via spacy.load('de_core_news_sm')\n"
          ],
          "name": "stdout"
        }
      ]
    },
    {
      "cell_type": "code",
      "metadata": {
        "id": "6PTI3uEnE3iv"
      },
      "source": [
        "def en_tokenizer(text):\n",
        "  return [tok.text for tok in en_tkn.tokenizer(text)]\n",
        "def de_tokenizer(text):\n",
        "  return [tok.text for tok in de_tkn.tokenizer(text)]\n",
        "  "
      ],
      "execution_count": 4,
      "outputs": []
    },
    {
      "cell_type": "code",
      "metadata": {
        "colab": {
          "base_uri": "https://localhost:8080/"
        },
        "id": "0h0tT3APFZr6",
        "outputId": "0f64bd6b-aa71-49f3-d410-eed2d4d49933"
      },
      "source": [
        "english = Field(tokenize = en_tokenizer, init_token = \"sos\", eos_token = \"eos\", lower = True)\n",
        "germany = Field(tokenize = de_tokenizer, init_token = \"sos\", eos_token = \"eos\", lower = True)\n",
        "tic = time.time()\n",
        "train_data, valid_data, test_data = Multi30k.splits(fields = (germany, english), exts = (\".de\", \".en\"))\n",
        "print(f\">>>> total train examples: {len(train_data.examples)}\\n>>>> total valid examples: {len(valid_data.examples)}\\n>>>> total test examples: {len(test_data.examples)}\")\n",
        "print(f\">>>> first paired example in a train set: {vars(train_data.examples[0])}\")\n",
        "toc = time.time()\n",
        "print(f\">>>> total time for loading and preprocess the data: {time_fmt(toc - tic)}\")"
      ],
      "execution_count": 5,
      "outputs": [
        {
          "output_type": "stream",
          "text": [
            "downloading training.tar.gz\n"
          ],
          "name": "stdout"
        },
        {
          "output_type": "stream",
          "text": [
            "training.tar.gz: 100%|██████████| 1.21M/1.21M [00:01<00:00, 861kB/s]\n"
          ],
          "name": "stderr"
        },
        {
          "output_type": "stream",
          "text": [
            "downloading validation.tar.gz\n"
          ],
          "name": "stdout"
        },
        {
          "output_type": "stream",
          "text": [
            "validation.tar.gz: 100%|██████████| 46.3k/46.3k [00:00<00:00, 166kB/s]\n"
          ],
          "name": "stderr"
        },
        {
          "output_type": "stream",
          "text": [
            "downloading mmt_task1_test2016.tar.gz\n"
          ],
          "name": "stdout"
        },
        {
          "output_type": "stream",
          "text": [
            "mmt_task1_test2016.tar.gz: 100%|██████████| 66.2k/66.2k [00:00<00:00, 158kB/s]\n"
          ],
          "name": "stderr"
        },
        {
          "output_type": "stream",
          "text": [
            ">>>> total train examples: 29000\n",
            ">>>> total valid examples: 1014\n",
            ">>>> total test examples: 1000\n",
            ">>>> first paired example in a train set: {'src': ['zwei', 'junge', 'weiße', 'männer', 'sind', 'im', 'freien', 'in', 'der', 'nähe', 'vieler', 'büsche', '.'], 'trg': ['two', 'young', ',', 'white', 'males', 'are', 'outside', 'near', 'many', 'bushes', '.']}\n",
            ">>>> total time for loading and preprocess the data: hrs: 0 min: 00 sec: 09.00\n"
          ],
          "name": "stdout"
        }
      ]
    },
    {
      "cell_type": "code",
      "metadata": {
        "id": "aBkiFj9WG9Jv"
      },
      "source": [
        "english.build_vocab(train_data, min_freq = 2)\n",
        "germany.build_vocab(train_data, min_freq = 2)"
      ],
      "execution_count": 6,
      "outputs": []
    },
    {
      "cell_type": "code",
      "metadata": {
        "id": "UB4yRhCqOc7p"
      },
      "source": [
        "batch_size = 128\n",
        "train_iter, valid_iter, test_iter = BucketIterator.splits(datasets = (train_data, valid_data, test_data),\n",
        "                                                   batch_size = batch_size, device = device)"
      ],
      "execution_count": 7,
      "outputs": []
    },
    {
      "cell_type": "code",
      "metadata": {
        "colab": {
          "base_uri": "https://localhost:8080/",
          "height": 164
        },
        "id": "DP5oLE34OyEx",
        "outputId": "2cad11fa-737c-49cb-aa23-b4230a031993"
      },
      "source": [
        "for i, batch in enumerate(train_iter):\n",
        "  print(batch.src.shape)\n",
        "  sys.exit()"
      ],
      "execution_count": 9,
      "outputs": [
        {
          "output_type": "stream",
          "text": [
            "torch.Size([25, 128])\n"
          ],
          "name": "stdout"
        },
        {
          "output_type": "error",
          "ename": "SystemExit",
          "evalue": "ignored",
          "traceback": [
            "An exception has occurred, use %tb to see the full traceback.\n",
            "\u001b[0;31mSystemExit\u001b[0m\n"
          ]
        },
        {
          "output_type": "stream",
          "text": [
            "/usr/local/lib/python3.7/dist-packages/IPython/core/interactiveshell.py:2890: UserWarning: To exit: use 'exit', 'quit', or Ctrl-D.\n",
            "  warn(\"To exit: use 'exit', 'quit', or Ctrl-D.\", stacklevel=1)\n"
          ],
          "name": "stderr"
        }
      ]
    },
    {
      "cell_type": "code",
      "metadata": {
        "id": "4eCoPSEMPOyP"
      },
      "source": [
        "class Encoder(nn.Module):\n",
        "  def __init__(self, enc_input_dim, enc_embd_dim, enc_hidden_dim, dec_hidden_dim, dropout):\n",
        "    super(Encoder, self).__init__()\n",
        "    self.dropout = nn.Dropout(dropout)\n",
        "    self.enc_embedding = nn.Embedding(num_embeddings = enc_input_dim, embedding_dim = enc_embd_dim)\n",
        "    self.enc_gru = nn.GRU(input_size = enc_embd_dim, hidden_size = enc_hidden_dim, bidirectional = True)\n",
        "    self.fc = nn.Linear(in_features = 2* enc_hidden_dim, out_features = dec_hidden_dim)\n",
        "  \n",
        "  def forward(self, enc_inputs):\n",
        "    \"\"\"\n",
        "    enc_input: shape == [enc_seq_len, batch_size]\n",
        "    enc_out: shape == [enc_seq_len, batch_size, 2* enc_hidden_dim]\n",
        "    enc_hidden: shape == [batch_size, enc_hidden_dim]\n",
        "    enc_hidden == cat[enc_hidden[forward], enc_hidden[backward]]\n",
        "    \"\"\"\n",
        "    enc_embeded = self.dropout(self.enc_embedding(enc_inputs)) # shape == [enc_seq_len, batch_size, enc_embd_dim]\n",
        "    enc_out, enc_hidden = self.enc_gru(enc_embeded)\n",
        "    hidden = torch.tanh(self.fc(torch.cat((enc_hidden[-2,:,:], enc_hidden[-1,:,:]), dim = 1))) # shape == [batch_size, dec_hidden_dim]\n",
        "    return enc_out, hidden\n",
        "    "
      ],
      "execution_count": 10,
      "outputs": []
    },
    {
      "cell_type": "code",
      "metadata": {
        "colab": {
          "base_uri": "https://localhost:8080/",
          "height": 215
        },
        "id": "DCZ2Co1ASPbX",
        "outputId": "9fa2113c-b995-4e38-fe2b-87970c18dc28"
      },
      "source": [
        "# testing the class\n",
        "for i, batch in enumerate(tqdm(train_iter)):\n",
        "  enc_input = batch.src\n",
        "  encoder = Encoder(len(germany.vocab), 300, 512, 512, 0.5).to(device = device)\n",
        "  enc_out, enc_hidden = encoder(enc_input)\n",
        "  print(f\"\\n>>>> enc_hidden_shape: {enc_hidden.shape}\\n>>>> enc_out_shape: {enc_out.shape}\")\n",
        "  sys.exit()"
      ],
      "execution_count": 11,
      "outputs": [
        {
          "output_type": "stream",
          "text": [
            "  0%|          | 0/227 [00:00<?, ?it/s]"
          ],
          "name": "stderr"
        },
        {
          "output_type": "stream",
          "text": [
            "\n",
            ">>>> enc_hidden_shape: torch.Size([128, 512])\n",
            ">>>> enc_out_shape: torch.Size([27, 128, 1024])\n"
          ],
          "name": "stdout"
        },
        {
          "output_type": "stream",
          "text": [
            "\n"
          ],
          "name": "stderr"
        },
        {
          "output_type": "error",
          "ename": "SystemExit",
          "evalue": "ignored",
          "traceback": [
            "An exception has occurred, use %tb to see the full traceback.\n",
            "\u001b[0;31mSystemExit\u001b[0m\n"
          ]
        },
        {
          "output_type": "stream",
          "text": [
            "/usr/local/lib/python3.7/dist-packages/IPython/core/interactiveshell.py:2890: UserWarning: To exit: use 'exit', 'quit', or Ctrl-D.\n",
            "  warn(\"To exit: use 'exit', 'quit', or Ctrl-D.\", stacklevel=1)\n"
          ],
          "name": "stderr"
        }
      ]
    },
    {
      "cell_type": "code",
      "metadata": {
        "id": "_6abx5A_TEHi"
      },
      "source": [
        "class Attention(nn.Module):\n",
        "  def __init__(self, enc_hidden_dim, dec_hidden_dim):\n",
        "    super(Attention, self).__init__()\n",
        "    self.attn = nn.Linear(in_features = 2*enc_hidden_dim + dec_hidden_dim, out_features = dec_hidden_dim)\n",
        "    self.v = nn.Linear(in_features = dec_hidden_dim, out_features = 1, bias = False)\n",
        "  \n",
        "  def forward(self, enc_out, dec_hidden):\n",
        "    \"\"\"\n",
        "    enc_out: shape == [enc_seq_len, batch_size, 2*enc_hidden_dim]\n",
        "    dec_hidden: shape == [batch_size, dec_hidden_dim]\n",
        "    # we combine enc_out, dec_hidden and compute attention weights\n",
        "    \"\"\"\n",
        "    batch_size = enc_out.shape[1]\n",
        "    enc_seq_len = enc_out.shape[0]\n",
        "    dec_hidden = dec_hidden.unsqueeze(1).repeat(1, enc_seq_len, 1) # shape == [batch_size, enc_seq_len, dec_hidden]\n",
        "    enc_out = enc_out.permute(1,0,2) # shape == [batch_size, enc_seq_len, 2*enc_hidden_dim]\n",
        "    energy = torch.tanh(torch.cat((enc_out, dec_hidden), dim = 2)) # shape == [batch_size, enc_seq_len, 2*enc_hidden_dim + dec_hidden_dim]\n",
        "    attention = self.attn(energy)\n",
        "    attention = self.v(attention).squeeze(2) # shape == [batch_size, enc_seq_len]\n",
        "    return nn.functional.softmax(attention, dim = 1) # shape == [batch_size, enc_seq_len]"
      ],
      "execution_count": 12,
      "outputs": []
    },
    {
      "cell_type": "code",
      "metadata": {
        "id": "vjnLsFS0W08E"
      },
      "source": [
        "# testing"
      ],
      "execution_count": 13,
      "outputs": []
    },
    {
      "cell_type": "code",
      "metadata": {
        "colab": {
          "base_uri": "https://localhost:8080/",
          "height": 198
        },
        "id": "9Bw9oExzXAgH",
        "outputId": "8bc540ae-ed5f-41de-c0f3-484c788fe3a2"
      },
      "source": [
        "for i, batch in enumerate(tqdm(train_iter)):\n",
        "  input = batch.src\n",
        "  encoder = Encoder(len(germany.vocab), 300, 512, 512, 0.5).to(device = device)\n",
        "  enc_out, enc_hidden = encoder(input)\n",
        "  attention = Attention(512, 512).to(device = device)\n",
        "  test_attention = attention(enc_out, enc_hidden)\n",
        "  print(f\"\\n>>>> attention_shape: {test_attention.shape}\")\n",
        "  sys.exit()"
      ],
      "execution_count": 14,
      "outputs": [
        {
          "output_type": "stream",
          "text": [
            "  0%|          | 0/227 [00:00<?, ?it/s]"
          ],
          "name": "stderr"
        },
        {
          "output_type": "stream",
          "text": [
            "\n",
            ">>>> attention_shape: torch.Size([128, 28])\n"
          ],
          "name": "stdout"
        },
        {
          "output_type": "stream",
          "text": [
            "\n"
          ],
          "name": "stderr"
        },
        {
          "output_type": "error",
          "ename": "SystemExit",
          "evalue": "ignored",
          "traceback": [
            "An exception has occurred, use %tb to see the full traceback.\n",
            "\u001b[0;31mSystemExit\u001b[0m\n"
          ]
        },
        {
          "output_type": "stream",
          "text": [
            "/usr/local/lib/python3.7/dist-packages/IPython/core/interactiveshell.py:2890: UserWarning: To exit: use 'exit', 'quit', or Ctrl-D.\n",
            "  warn(\"To exit: use 'exit', 'quit', or Ctrl-D.\", stacklevel=1)\n"
          ],
          "name": "stderr"
        }
      ]
    },
    {
      "cell_type": "code",
      "metadata": {
        "id": "pr4Q24PtYFRv"
      },
      "source": [
        "# Decoder\n",
        "class Decoder(nn.Module):\n",
        "  def __init__(self, dec_out_dim, dec_embd_dim, dec_hidden_dim, enc_hidden_dim, attention, dropout):\n",
        "    super(Decoder, self).__init__()\n",
        "    self.dropout = nn.Dropout(dropout)\n",
        "    self.attention = attention\n",
        "    self.dec_out_dim = dec_out_dim\n",
        "    self.dec_embd = nn.Embedding(num_embeddings = dec_out_dim, embedding_dim = dec_embd_dim)\n",
        "    self.dec_gru = nn.GRU(input_size = (2*enc_hidden_dim + dec_embd_dim), hidden_size = dec_hidden_dim)\n",
        "    self.fc = nn.Linear(in_features = (2*enc_hidden_dim + dec_embd_dim + dec_hidden_dim), out_features = dec_out_dim)\n",
        "\n",
        "  def forward(self, dec_input, dec_hidden, enc_out):\n",
        "    \"\"\"\n",
        "    dec_input: shape == [batch_size] # we enter one token at a time\n",
        "    dec_hidden: shape == [batch_size, dec_hidden_dim]\n",
        "    enc_out: shape == [enc_seq_len, batch_size, 2*enc_hidden_dim]\n",
        "    ## we need to compute the predictions using the context vector derived\n",
        "    ## from decoder hidden + enc_out and attention\n",
        "    dec_out: shape == [dec_seq_len, batch_size, dec_hidden_dim]\n",
        "    hidden: shape ==m[batch_size, dec_hidden_dim]\n",
        "\n",
        "    \"\"\"\n",
        "    dec_input = dec_input.unsqueeze(0) # shape == [1, batch_size]\n",
        "    dec_embeded = self.dropout(self.dec_embd(dec_input)) # shape == [1, batch_size, dec_embd_dim]\n",
        "    a = self.attention(enc_out, dec_hidden) # shape == [batch_size, enc_seq_len]\n",
        "    a = a.unsqueeze(1) # shape ==  [batch_size, 1, enc_seq_len]\n",
        "    enc_out = enc_out.permute(1, 0, 2) # shape == [batch_size, enc_seq_len, 2*enc_hidden_dim]\n",
        "    weighted = torch.bmm(a, enc_out) # shape == [batch_size, 1, 2*enc_hidden_dim] \n",
        "    weighted = weighted.permute(1, 0, 2) # shape == [1, batch_size, 2*enc_hidden_dim]\n",
        "    gru_input = torch.cat((weighted, dec_embeded), dim = 2) # shape == [1, batch_size, 2*enc_hidden_dim + dec_embd_dim]\n",
        "    dec_out, hidden = self.dec_gru(gru_input, dec_hidden.unsqueeze(0))\n",
        "    weighted = weighted.squeeze(0) # shape == [batch_size, 2*enc_hidden_dim]\n",
        "    dec_embeded = dec_embeded.squeeze(0) # shape == [batch_size, dec_embedded_dim]\n",
        "    dec_out = dec_out.squeeze(0) # shape == [batch_size, dec_hidden_dim]\n",
        "    fc_input = torch.cat((weighted, dec_embeded, dec_out), dim = 1) # shape == [batch_size, 2*enc_hidden_dim + dec_embeded_dim+ dec_hidden]\n",
        "    preds = self.fc(fc_input) # shape == [batch_size, dec_out_dim]\n",
        "    return preds, hidden.squeeze(0)\n"
      ],
      "execution_count": 15,
      "outputs": []
    },
    {
      "cell_type": "code",
      "metadata": {
        "colab": {
          "base_uri": "https://localhost:8080/",
          "height": 215
        },
        "id": "0KpDaGLjm4Q5",
        "outputId": "c6cd9b39-7289-4ed7-ea0d-a48fd03a2a69"
      },
      "source": [
        "# testing the decoder's class:\n",
        "for i, batch in enumerate(tqdm(train_iter)):\n",
        "  enc_input = batch.src\n",
        "  dec_input = batch.trg\n",
        "  encoder = Encoder(len(germany.vocab), 300, 512, 512, 0.5).to(device = device)\n",
        "  enc_out, enc_hidden = encoder(enc_input)\n",
        "  attention = Attention(512, 512)\n",
        "  decoder = Decoder(len(english.vocab), 300, 512, 512, attention,0.5).to(device = device)\n",
        "  preds, dec_hidden = decoder(dec_input[i], enc_hidden, enc_out)\n",
        "  print(f\"\\n>>>> predictions_shape: {preds.shape}\\n>>>> dec_hidden_shape: {dec_hidden.shape}\")\n",
        "  sys.exit()"
      ],
      "execution_count": 16,
      "outputs": [
        {
          "output_type": "stream",
          "text": [
            "  0%|          | 0/227 [00:00<?, ?it/s]"
          ],
          "name": "stderr"
        },
        {
          "output_type": "stream",
          "text": [
            "\n",
            ">>>> predictions_shape: torch.Size([128, 5893])\n",
            ">>>> dec_hidden_shape: torch.Size([128, 512])\n"
          ],
          "name": "stdout"
        },
        {
          "output_type": "stream",
          "text": [
            "\n"
          ],
          "name": "stderr"
        },
        {
          "output_type": "error",
          "ename": "SystemExit",
          "evalue": "ignored",
          "traceback": [
            "An exception has occurred, use %tb to see the full traceback.\n",
            "\u001b[0;31mSystemExit\u001b[0m\n"
          ]
        },
        {
          "output_type": "stream",
          "text": [
            "/usr/local/lib/python3.7/dist-packages/IPython/core/interactiveshell.py:2890: UserWarning: To exit: use 'exit', 'quit', or Ctrl-D.\n",
            "  warn(\"To exit: use 'exit', 'quit', or Ctrl-D.\", stacklevel=1)\n"
          ],
          "name": "stderr"
        }
      ]
    },
    {
      "cell_type": "code",
      "metadata": {
        "id": "EyRUduWmocvb"
      },
      "source": [
        "# Model class:\n",
        "class Final_Model(nn.Module):\n",
        "  def __init__(self, encoder, decoder, device):\n",
        "    super(Final_Model, self).__init__()\n",
        "    self.encoder = encoder\n",
        "    self.decoder = decoder\n",
        "    self.device = device\n",
        "  \n",
        "  def forward(self, input, target, tfl_ratio = 0.5):\n",
        "    \"\"\"\n",
        "    input: shape == [seq_len, batch_size]\n",
        "    target: shape == [seq_len, batch_size]\n",
        "    tfl_ratio: teacher force learning ratio\n",
        "    outputs shape == [dec_seq_len, batch_size, dec_voc_size]\n",
        "    \"\"\"\n",
        "    batch_size = input.shape[1]\n",
        "    target_len = target.shape[0]\n",
        "    target_voc_size = self.decoder.dec_out_dim\n",
        "    outputs = torch.zeros(size = (target_len, batch_size, target_voc_size)).to(device = self.device)\n",
        "    init_token = target[0,:] # select the first token in a decoder's sequence (\"sos\")\n",
        "    enc_out, enc_hidden = self.encoder(input) # run the encoder network\n",
        "    for t in range(1, target_len):\n",
        "      preds, dec_hidden = self.decoder(init_token, enc_hidden, enc_out)\n",
        "      outputs[t] = preds\n",
        "      best_guess = preds.argmax(1)\n",
        "      if tfl_ratio < random.random():\n",
        "        input = best_guess\n",
        "      else:\n",
        "        input = target[t]\n",
        "    \n",
        "    return outputs # shape == [target_len, batch_size, target_voc_size]\n"
      ],
      "execution_count": 17,
      "outputs": []
    },
    {
      "cell_type": "code",
      "metadata": {
        "colab": {
          "base_uri": "https://localhost:8080/",
          "height": 198
        },
        "id": "5PcsndV4z6TC",
        "outputId": "f6830735-b5c0-4f87-bda1-90c359f7a671"
      },
      "source": [
        "# testing:\n",
        "for i, batch in enumerate(tqdm(train_iter)):\n",
        "  input = batch.src\n",
        "  target = batch.trg\n",
        "  encoder = Encoder(len(germany.vocab), 300, 512, 512, 0.5).to(device = device)\n",
        "  attention = Attention(512, 512)\n",
        "  decoder = Decoder(len(english.vocab), 300, 512, 512,attention, 0.5).to(device = device)\n",
        "  model = Final_Model(encoder, decoder, device).to(device = device)\n",
        "  predictions = model(input, target)\n",
        "  print(f\"\\n>>>> predictions_shape: {predictions.shape}\")\n",
        "  sys.exit()"
      ],
      "execution_count": 18,
      "outputs": [
        {
          "output_type": "stream",
          "text": [
            "  0%|          | 0/227 [00:00<?, ?it/s]"
          ],
          "name": "stderr"
        },
        {
          "output_type": "stream",
          "text": [
            "\n",
            ">>>> predictions_shape: torch.Size([26, 128, 5893])\n"
          ],
          "name": "stdout"
        },
        {
          "output_type": "stream",
          "text": [
            "\n"
          ],
          "name": "stderr"
        },
        {
          "output_type": "error",
          "ename": "SystemExit",
          "evalue": "ignored",
          "traceback": [
            "An exception has occurred, use %tb to see the full traceback.\n",
            "\u001b[0;31mSystemExit\u001b[0m\n"
          ]
        },
        {
          "output_type": "stream",
          "text": [
            "/usr/local/lib/python3.7/dist-packages/IPython/core/interactiveshell.py:2890: UserWarning: To exit: use 'exit', 'quit', or Ctrl-D.\n",
            "  warn(\"To exit: use 'exit', 'quit', or Ctrl-D.\", stacklevel=1)\n"
          ],
          "name": "stderr"
        }
      ]
    },
    {
      "cell_type": "code",
      "metadata": {
        "id": "V5Hy_nj-1Atr"
      },
      "source": [
        "# instantiating the model class:\n",
        "enc_input_dim = len(germany.vocab)\n",
        "dec_input_dim = len(english.vocab)\n",
        "enc_hidden_dim = 512\n",
        "dec_hidden_dim = 512\n",
        "enc_embd_dim = 300\n",
        "dec_embd_dim = 300\n",
        "dropout = 0.5\n",
        "attention = Attention(enc_hidden_dim, dec_hidden_dim).to(device = device)\n",
        "encoder = Encoder(enc_input_dim, enc_embd_dim, enc_hidden_dim, dec_hidden_dim, dropout).to(device = device)\n",
        "decoder = Decoder(dec_input_dim, dec_embd_dim, dec_hidden_dim, enc_hidden_dim, attention, dropout).to(device = device)\n",
        "model = Final_Model(encoder, decoder, device).to(device = device)\n"
      ],
      "execution_count": 19,
      "outputs": []
    },
    {
      "cell_type": "code",
      "metadata": {
        "colab": {
          "base_uri": "https://localhost:8080/"
        },
        "id": "0Z6eE3Z7Dj8b",
        "outputId": "c696d741-d972-45c8-df4f-d2e727831209"
      },
      "source": [
        "# initialize the weights to random normal (0.00, 0.001) and the biasses to 0\n",
        "def initializer(model):\n",
        "  for name, par in model.named_parameters():\n",
        "    if \"weight\" in name:\n",
        "      nn.init.normal_(par.data, mean = 0.00, std = 0.01)\n",
        "    else:\n",
        "      nn.init.constant_(par.data, 0)\n",
        "model.apply(initializer)"
      ],
      "execution_count": 20,
      "outputs": [
        {
          "output_type": "execute_result",
          "data": {
            "text/plain": [
              "Final_Model(\n",
              "  (encoder): Encoder(\n",
              "    (dropout): Dropout(p=0.5, inplace=False)\n",
              "    (enc_embedding): Embedding(7855, 300)\n",
              "    (enc_gru): GRU(300, 512, bidirectional=True)\n",
              "    (fc): Linear(in_features=1024, out_features=512, bias=True)\n",
              "  )\n",
              "  (decoder): Decoder(\n",
              "    (dropout): Dropout(p=0.5, inplace=False)\n",
              "    (attention): Attention(\n",
              "      (attn): Linear(in_features=1536, out_features=512, bias=True)\n",
              "      (v): Linear(in_features=512, out_features=1, bias=False)\n",
              "    )\n",
              "    (dec_embd): Embedding(5893, 300)\n",
              "    (dec_gru): GRU(1324, 512)\n",
              "    (fc): Linear(in_features=1836, out_features=5893, bias=True)\n",
              "  )\n",
              ")"
            ]
          },
          "metadata": {},
          "execution_count": 20
        }
      ]
    },
    {
      "cell_type": "code",
      "metadata": {
        "colab": {
          "base_uri": "https://localhost:8080/"
        },
        "id": "5nRHETNYEM0z",
        "outputId": "221ccda8-7711-498e-d716-0a5799c6f556"
      },
      "source": [
        "# parameters conter\n",
        "def par_counter(model):\n",
        "  return sum(p.numel() for p in model.parameters() if p.requires_grad)\n",
        "print(f\"\\n>>>> total number of learnable weights in the model: {par_counter(model):,} parameters\")"
      ],
      "execution_count": 21,
      "outputs": [
        {
          "output_type": "stream",
          "text": [
            "\n",
            ">>>> total number of learnable weights in the model: 21,585,873 parameters\n"
          ],
          "name": "stdout"
        }
      ]
    },
    {
      "cell_type": "code",
      "metadata": {
        "id": "Gbefv8HnFAjq"
      },
      "source": [
        "# training hyper-parameters and tensorboard setup:\n",
        "EPOCHS = 100\n",
        "learning_rate = 1e-3\n",
        "current_time = datetime.datetime.now().timestamp()\n",
        "train_path = \"logs/tensorboard/train_mtl_attn/\" + str(current_time)\n",
        "valid_path = \"logs/tensorboard/valid_mtl_attn/\" + str(current_time)\n",
        "train_writer = summary.create_file_writer(logdir = train_path)\n",
        "valid_writer = summary.create_file_writer(logdir = valid_path)\n"
      ],
      "execution_count": 22,
      "outputs": []
    },
    {
      "cell_type": "code",
      "metadata": {
        "id": "k52-O2XTGFdq"
      },
      "source": [
        "# get the loss and the optimizer objects"
      ],
      "execution_count": 23,
      "outputs": []
    },
    {
      "cell_type": "code",
      "metadata": {
        "id": "rcdw1mmFGJm2"
      },
      "source": [
        "padding_idx = english.vocab.stoi[\"<pad>\"]\n",
        "loss_obj = nn.CrossEntropyLoss(ignore_index = padding_idx)\n",
        "optimizer = optim.Adam(params = model.parameters(), lr = learning_rate)"
      ],
      "execution_count": 24,
      "outputs": []
    },
    {
      "cell_type": "code",
      "metadata": {
        "id": "SRCxzpoFGbXE"
      },
      "source": [
        "# the train loop\n",
        "def training_loop(model, iterator, loss_obj, optimizer, clip):\n",
        "  model.train()\n",
        "  step = 0\n",
        "  loss_per_epoch = 0\n",
        "  for i, batch in enumerate(tqdm(iterator)):\n",
        "    input = batch.src.to(device = device)\n",
        "    target = batch.trg.to(device = device)\n",
        "    optimizer.zero_grad() # initialize the slopes to zeros\n",
        "    preds = model(input, target) # shape == [target_len, batch_size, target_voc_size]\n",
        "    out_dim = preds.shape[-1] # grab the target_voc_size\n",
        "    # reshape to suit the cross-entropy loss requirement\n",
        "    preds = preds[1:].view(-1, out_dim) # shape = [(target_len - 1) * batch_size, target_voc_size]\n",
        "    target = target[1:].view(-1) # shape == [(target_len - 1) * batch_size]\n",
        "    train_loss = loss_obj(preds, target)\n",
        "    train_loss.backward() # compute the gradients\n",
        "    nn.utils.clip_grad_norm_(parameters = model.parameters(), max_norm = clip)\n",
        "    optimizer.step() # gradient descent with adam optimizer\n",
        "    loss_per_epoch+=train_loss.item()\n",
        "    if i % 100 == 0:\n",
        "      with train_writer.as_default():\n",
        "        summary.scalar(\"train_loss\", train_loss.item(), step = step)\n",
        "        step += 1\n",
        "  return loss_per_epoch / len(iterator)\n",
        "\n"
      ],
      "execution_count": 25,
      "outputs": []
    },
    {
      "cell_type": "code",
      "metadata": {
        "id": "H-jfmmZAJHeI"
      },
      "source": [
        "# validation loop\n",
        "def valid_loop(model, iterator, loss_obj):\n",
        "  model.eval()\n",
        "  step = 0\n",
        "  loss_per_epoch = 0\n",
        "  for i, batch in enumerate(tqdm(iterator)):\n",
        "    input = batch.src\n",
        "    target = batch.trg\n",
        "    preds = model(input, target, 0) # no teacher-force technique at this stage\n",
        "    out_dim = preds.shape[-1]\n",
        "    preds = preds[1:].view(-1, out_dim)\n",
        "    target = target[1:].view(-1)\n",
        "    valid_loss = loss_obj(preds, target)\n",
        "    loss_per_epoch += valid_loss.item()\n",
        "    if i % 100 == 100:\n",
        "      with valid_writer.as_default():\n",
        "        summary.scalar(\"valid_loss\", valid_loss.item(), step = step)\n",
        "        step += 1\n",
        "  \n",
        "  return loss_per_epoch / len(iterator)\n",
        "  "
      ],
      "execution_count": 26,
      "outputs": []
    },
    {
      "cell_type": "code",
      "metadata": {
        "colab": {
          "base_uri": "https://localhost:8080/",
          "height": 1000
        },
        "id": "KmDgWU_jKX99",
        "outputId": "807865b5-3c54-4d3a-88a5-e371f705fc18"
      },
      "source": [
        "clip = 1\n",
        "best_valid_loss = float(\"inf\")\n",
        "tic = time.time()\n",
        "for epoch in range(EPOCHS):\n",
        "  print(f\"\\n>>>> training starts for epoch {epoch + 1}\\n>>>> please wait while the model is training....................\")\n",
        "  train_loss = training_loop(model, train_iter, loss_obj, optimizer, clip)\n",
        "  valid_loss = valid_loop(model, valid_iter, loss_obj)\n",
        "  if valid_loss < best_valid_loss:\n",
        "    torch.save(model.state_dict(), \"mtl_attn.pt\")\n",
        "    best_valid_loss = valid_loss\n",
        "  print(f\"\\n>>>> end of training for epoch {epoch + 1}, train loss: {train_loss:.4f}, train PPL: {math.exp(train_loss):7.4f}\")\n",
        "  print(f\">>>> end of validation for epoch {epoch + 1}, valid loss: {valid_loss:.4f}, valid PPL: {math.exp(valid_loss):7.4f}\")\n",
        "toc = time.time()\n",
        "print(f\"\\n>>>> end of training for {EPOCHS} epochs: total time elapsed is {time_fmt(toc - tic)}\")\n",
        "\n",
        "%tensorboard -logdir logs/tensorboard"
      ],
      "execution_count": 27,
      "outputs": [
        {
          "output_type": "stream",
          "text": [
            "\n",
            ">>>> training starts for epoch 1\n",
            ">>>> please wait while the model is training....................\n"
          ],
          "name": "stdout"
        },
        {
          "output_type": "stream",
          "text": [
            "100%|██████████| 227/227 [01:23<00:00,  2.72it/s]\n",
            "100%|██████████| 8/8 [00:00<00:00, 13.26it/s]\n"
          ],
          "name": "stderr"
        },
        {
          "output_type": "stream",
          "text": [
            "\n",
            ">>>> end of training for epoch 1, train loss: 5.5112, train PPL: 247.4592\n",
            ">>>> end of validation for epoch 1, valid loss: 5.1999, valid PPL: 181.2520\n",
            "\n",
            ">>>> training starts for epoch 2\n",
            ">>>> please wait while the model is training....................\n"
          ],
          "name": "stdout"
        },
        {
          "output_type": "stream",
          "text": [
            "100%|██████████| 227/227 [01:26<00:00,  2.63it/s]\n",
            "100%|██████████| 8/8 [00:00<00:00, 13.16it/s]\n"
          ],
          "name": "stderr"
        },
        {
          "output_type": "stream",
          "text": [
            "\n",
            ">>>> end of training for epoch 2, train loss: 5.0895, train PPL: 162.3007\n",
            ">>>> end of validation for epoch 2, valid loss: 4.8191, valid PPL: 123.8591\n",
            "\n",
            ">>>> training starts for epoch 3\n",
            ">>>> please wait while the model is training....................\n"
          ],
          "name": "stdout"
        },
        {
          "output_type": "stream",
          "text": [
            "100%|██████████| 227/227 [01:28<00:00,  2.57it/s]\n",
            "100%|██████████| 8/8 [00:00<00:00, 12.97it/s]\n"
          ],
          "name": "stderr"
        },
        {
          "output_type": "stream",
          "text": [
            "\n",
            ">>>> end of training for epoch 3, train loss: 4.7069, train PPL: 110.7123\n",
            ">>>> end of validation for epoch 3, valid loss: 4.4756, valid PPL: 87.8432\n",
            "\n",
            ">>>> training starts for epoch 4\n",
            ">>>> please wait while the model is training....................\n"
          ],
          "name": "stdout"
        },
        {
          "output_type": "stream",
          "text": [
            "100%|██████████| 227/227 [01:28<00:00,  2.56it/s]\n",
            "100%|██████████| 8/8 [00:00<00:00, 13.01it/s]\n"
          ],
          "name": "stderr"
        },
        {
          "output_type": "stream",
          "text": [
            "\n",
            ">>>> end of training for epoch 4, train loss: 4.3643, train PPL: 78.5945\n",
            ">>>> end of validation for epoch 4, valid loss: 4.2689, valid PPL: 71.4403\n",
            "\n",
            ">>>> training starts for epoch 5\n",
            ">>>> please wait while the model is training....................\n"
          ],
          "name": "stdout"
        },
        {
          "output_type": "stream",
          "text": [
            "100%|██████████| 227/227 [01:28<00:00,  2.58it/s]\n",
            "100%|██████████| 8/8 [00:00<00:00, 12.92it/s]\n"
          ],
          "name": "stderr"
        },
        {
          "output_type": "stream",
          "text": [
            "\n",
            ">>>> end of training for epoch 5, train loss: 4.0963, train PPL: 60.1147\n",
            ">>>> end of validation for epoch 5, valid loss: 4.1508, valid PPL: 63.4864\n",
            "\n",
            ">>>> training starts for epoch 6\n",
            ">>>> please wait while the model is training....................\n"
          ],
          "name": "stdout"
        },
        {
          "output_type": "stream",
          "text": [
            "100%|██████████| 227/227 [01:28<00:00,  2.56it/s]\n",
            "100%|██████████| 8/8 [00:00<00:00, 13.02it/s]\n"
          ],
          "name": "stderr"
        },
        {
          "output_type": "stream",
          "text": [
            "\n",
            ">>>> end of training for epoch 6, train loss: 3.8697, train PPL: 47.9300\n",
            ">>>> end of validation for epoch 6, valid loss: 4.1081, valid PPL: 60.8326\n",
            "\n",
            ">>>> training starts for epoch 7\n",
            ">>>> please wait while the model is training....................\n"
          ],
          "name": "stdout"
        },
        {
          "output_type": "stream",
          "text": [
            "100%|██████████| 227/227 [01:28<00:00,  2.55it/s]\n",
            "100%|██████████| 8/8 [00:00<00:00, 13.13it/s]\n"
          ],
          "name": "stderr"
        },
        {
          "output_type": "stream",
          "text": [
            "\n",
            ">>>> end of training for epoch 7, train loss: 3.6885, train PPL: 39.9830\n",
            ">>>> end of validation for epoch 7, valid loss: 4.0811, valid PPL: 59.2088\n",
            "\n",
            ">>>> training starts for epoch 8\n",
            ">>>> please wait while the model is training....................\n"
          ],
          "name": "stdout"
        },
        {
          "output_type": "stream",
          "text": [
            "100%|██████████| 227/227 [01:27<00:00,  2.59it/s]\n",
            "100%|██████████| 8/8 [00:00<00:00, 13.12it/s]\n"
          ],
          "name": "stderr"
        },
        {
          "output_type": "stream",
          "text": [
            "\n",
            ">>>> end of training for epoch 8, train loss: 3.5600, train PPL: 35.1639\n",
            ">>>> end of validation for epoch 8, valid loss: 4.0636, valid PPL: 58.1849\n",
            "\n",
            ">>>> training starts for epoch 9\n",
            ">>>> please wait while the model is training....................\n"
          ],
          "name": "stdout"
        },
        {
          "output_type": "stream",
          "text": [
            "100%|██████████| 227/227 [01:27<00:00,  2.58it/s]\n",
            "100%|██████████| 8/8 [00:00<00:00, 13.07it/s]\n"
          ],
          "name": "stderr"
        },
        {
          "output_type": "stream",
          "text": [
            "\n",
            ">>>> end of training for epoch 9, train loss: 3.4783, train PPL: 32.4050\n",
            ">>>> end of validation for epoch 9, valid loss: 4.0609, valid PPL: 58.0273\n",
            "\n",
            ">>>> training starts for epoch 10\n",
            ">>>> please wait while the model is training....................\n"
          ],
          "name": "stdout"
        },
        {
          "output_type": "stream",
          "text": [
            "100%|██████████| 227/227 [01:28<00:00,  2.58it/s]\n",
            "100%|██████████| 8/8 [00:00<00:00, 12.95it/s]\n"
          ],
          "name": "stderr"
        },
        {
          "output_type": "stream",
          "text": [
            "\n",
            ">>>> end of training for epoch 10, train loss: 3.4159, train PPL: 30.4449\n",
            ">>>> end of validation for epoch 10, valid loss: 4.0806, valid PPL: 59.1826\n",
            "\n",
            ">>>> training starts for epoch 11\n",
            ">>>> please wait while the model is training....................\n"
          ],
          "name": "stdout"
        },
        {
          "output_type": "stream",
          "text": [
            "100%|██████████| 227/227 [01:27<00:00,  2.58it/s]\n",
            "100%|██████████| 8/8 [00:00<00:00, 13.03it/s]\n"
          ],
          "name": "stderr"
        },
        {
          "output_type": "stream",
          "text": [
            "\n",
            ">>>> end of training for epoch 11, train loss: 3.3599, train PPL: 28.7861\n",
            ">>>> end of validation for epoch 11, valid loss: 4.0769, valid PPL: 58.9612\n",
            "\n",
            ">>>> training starts for epoch 12\n",
            ">>>> please wait while the model is training....................\n"
          ],
          "name": "stdout"
        },
        {
          "output_type": "stream",
          "text": [
            "100%|██████████| 227/227 [01:27<00:00,  2.58it/s]\n",
            "100%|██████████| 8/8 [00:00<00:00, 12.97it/s]\n"
          ],
          "name": "stderr"
        },
        {
          "output_type": "stream",
          "text": [
            "\n",
            ">>>> end of training for epoch 12, train loss: 3.3118, train PPL: 27.4356\n",
            ">>>> end of validation for epoch 12, valid loss: 4.0855, valid PPL: 59.4730\n",
            "\n",
            ">>>> training starts for epoch 13\n",
            ">>>> please wait while the model is training....................\n"
          ],
          "name": "stdout"
        },
        {
          "output_type": "stream",
          "text": [
            "100%|██████████| 227/227 [01:28<00:00,  2.57it/s]\n",
            "100%|██████████| 8/8 [00:00<00:00, 12.83it/s]\n"
          ],
          "name": "stderr"
        },
        {
          "output_type": "stream",
          "text": [
            "\n",
            ">>>> end of training for epoch 13, train loss: 3.2666, train PPL: 26.2218\n",
            ">>>> end of validation for epoch 13, valid loss: 4.0855, valid PPL: 59.4743\n",
            "\n",
            ">>>> training starts for epoch 14\n",
            ">>>> please wait while the model is training....................\n"
          ],
          "name": "stdout"
        },
        {
          "output_type": "stream",
          "text": [
            "100%|██████████| 227/227 [01:28<00:00,  2.56it/s]\n",
            "100%|██████████| 8/8 [00:00<00:00, 13.07it/s]\n"
          ],
          "name": "stderr"
        },
        {
          "output_type": "stream",
          "text": [
            "\n",
            ">>>> end of training for epoch 14, train loss: 3.2278, train PPL: 25.2250\n",
            ">>>> end of validation for epoch 14, valid loss: 4.0954, valid PPL: 60.0639\n",
            "\n",
            ">>>> training starts for epoch 15\n",
            ">>>> please wait while the model is training....................\n"
          ],
          "name": "stdout"
        },
        {
          "output_type": "stream",
          "text": [
            "100%|██████████| 227/227 [01:28<00:00,  2.57it/s]\n",
            "100%|██████████| 8/8 [00:00<00:00, 13.07it/s]\n"
          ],
          "name": "stderr"
        },
        {
          "output_type": "stream",
          "text": [
            "\n",
            ">>>> end of training for epoch 15, train loss: 3.1955, train PPL: 24.4227\n",
            ">>>> end of validation for epoch 15, valid loss: 4.1023, valid PPL: 60.4766\n",
            "\n",
            ">>>> training starts for epoch 16\n",
            ">>>> please wait while the model is training....................\n"
          ],
          "name": "stdout"
        },
        {
          "output_type": "stream",
          "text": [
            "100%|██████████| 227/227 [01:28<00:00,  2.56it/s]\n",
            "100%|██████████| 8/8 [00:00<00:00, 13.01it/s]\n"
          ],
          "name": "stderr"
        },
        {
          "output_type": "stream",
          "text": [
            "\n",
            ">>>> end of training for epoch 16, train loss: 3.1654, train PPL: 23.6974\n",
            ">>>> end of validation for epoch 16, valid loss: 4.1143, valid PPL: 61.2119\n",
            "\n",
            ">>>> training starts for epoch 17\n",
            ">>>> please wait while the model is training....................\n"
          ],
          "name": "stdout"
        },
        {
          "output_type": "stream",
          "text": [
            "100%|██████████| 227/227 [01:27<00:00,  2.58it/s]\n",
            "100%|██████████| 8/8 [00:00<00:00, 13.02it/s]\n"
          ],
          "name": "stderr"
        },
        {
          "output_type": "stream",
          "text": [
            "\n",
            ">>>> end of training for epoch 17, train loss: 3.1411, train PPL: 23.1282\n",
            ">>>> end of validation for epoch 17, valid loss: 4.1320, valid PPL: 62.3046\n",
            "\n",
            ">>>> training starts for epoch 18\n",
            ">>>> please wait while the model is training....................\n"
          ],
          "name": "stdout"
        },
        {
          "output_type": "stream",
          "text": [
            "100%|██████████| 227/227 [01:28<00:00,  2.57it/s]\n",
            "100%|██████████| 8/8 [00:00<00:00, 13.12it/s]\n"
          ],
          "name": "stderr"
        },
        {
          "output_type": "stream",
          "text": [
            "\n",
            ">>>> end of training for epoch 18, train loss: 3.1160, train PPL: 22.5551\n",
            ">>>> end of validation for epoch 18, valid loss: 4.1371, valid PPL: 62.6188\n",
            "\n",
            ">>>> training starts for epoch 19\n",
            ">>>> please wait while the model is training....................\n"
          ],
          "name": "stdout"
        },
        {
          "output_type": "stream",
          "text": [
            "100%|██████████| 227/227 [01:27<00:00,  2.58it/s]\n",
            "100%|██████████| 8/8 [00:00<00:00, 13.05it/s]\n"
          ],
          "name": "stderr"
        },
        {
          "output_type": "stream",
          "text": [
            "\n",
            ">>>> end of training for epoch 19, train loss: 3.0969, train PPL: 22.1297\n",
            ">>>> end of validation for epoch 19, valid loss: 4.1639, valid PPL: 64.3224\n",
            "\n",
            ">>>> training starts for epoch 20\n",
            ">>>> please wait while the model is training....................\n"
          ],
          "name": "stdout"
        },
        {
          "output_type": "stream",
          "text": [
            "100%|██████████| 227/227 [01:28<00:00,  2.56it/s]\n",
            "100%|██████████| 8/8 [00:00<00:00, 12.95it/s]\n"
          ],
          "name": "stderr"
        },
        {
          "output_type": "stream",
          "text": [
            "\n",
            ">>>> end of training for epoch 20, train loss: 3.0785, train PPL: 21.7250\n",
            ">>>> end of validation for epoch 20, valid loss: 4.1505, valid PPL: 63.4663\n",
            "\n",
            ">>>> training starts for epoch 21\n",
            ">>>> please wait while the model is training....................\n"
          ],
          "name": "stdout"
        },
        {
          "output_type": "stream",
          "text": [
            "100%|██████████| 227/227 [01:28<00:00,  2.57it/s]\n",
            "100%|██████████| 8/8 [00:00<00:00, 13.13it/s]\n"
          ],
          "name": "stderr"
        },
        {
          "output_type": "stream",
          "text": [
            "\n",
            ">>>> end of training for epoch 21, train loss: 3.0647, train PPL: 21.4272\n",
            ">>>> end of validation for epoch 21, valid loss: 4.1609, valid PPL: 64.1273\n",
            "\n",
            ">>>> training starts for epoch 22\n",
            ">>>> please wait while the model is training....................\n"
          ],
          "name": "stdout"
        },
        {
          "output_type": "stream",
          "text": [
            "100%|██████████| 227/227 [01:28<00:00,  2.57it/s]\n",
            "100%|██████████| 8/8 [00:00<00:00, 12.96it/s]\n"
          ],
          "name": "stderr"
        },
        {
          "output_type": "stream",
          "text": [
            "\n",
            ">>>> end of training for epoch 22, train loss: 3.0496, train PPL: 21.1072\n",
            ">>>> end of validation for epoch 22, valid loss: 4.1667, valid PPL: 64.5017\n",
            "\n",
            ">>>> training starts for epoch 23\n",
            ">>>> please wait while the model is training....................\n"
          ],
          "name": "stdout"
        },
        {
          "output_type": "stream",
          "text": [
            "100%|██████████| 227/227 [01:28<00:00,  2.56it/s]\n",
            "100%|██████████| 8/8 [00:00<00:00, 12.99it/s]\n"
          ],
          "name": "stderr"
        },
        {
          "output_type": "stream",
          "text": [
            "\n",
            ">>>> end of training for epoch 23, train loss: 3.0367, train PPL: 20.8357\n",
            ">>>> end of validation for epoch 23, valid loss: 4.1937, valid PPL: 66.2667\n",
            "\n",
            ">>>> training starts for epoch 24\n",
            ">>>> please wait while the model is training....................\n"
          ],
          "name": "stdout"
        },
        {
          "output_type": "stream",
          "text": [
            "100%|██████████| 227/227 [01:28<00:00,  2.56it/s]\n",
            "100%|██████████| 8/8 [00:00<00:00, 13.11it/s]\n"
          ],
          "name": "stderr"
        },
        {
          "output_type": "stream",
          "text": [
            "\n",
            ">>>> end of training for epoch 24, train loss: 3.0262, train PPL: 20.6187\n",
            ">>>> end of validation for epoch 24, valid loss: 4.1999, valid PPL: 66.6812\n",
            "\n",
            ">>>> training starts for epoch 25\n",
            ">>>> please wait while the model is training....................\n"
          ],
          "name": "stdout"
        },
        {
          "output_type": "stream",
          "text": [
            "100%|██████████| 227/227 [01:28<00:00,  2.57it/s]\n",
            "100%|██████████| 8/8 [00:00<00:00, 13.02it/s]\n"
          ],
          "name": "stderr"
        },
        {
          "output_type": "stream",
          "text": [
            "\n",
            ">>>> end of training for epoch 25, train loss: 3.0183, train PPL: 20.4556\n",
            ">>>> end of validation for epoch 25, valid loss: 4.1846, valid PPL: 65.6665\n",
            "\n",
            ">>>> training starts for epoch 26\n",
            ">>>> please wait while the model is training....................\n"
          ],
          "name": "stdout"
        },
        {
          "output_type": "stream",
          "text": [
            "100%|██████████| 227/227 [01:28<00:00,  2.58it/s]\n",
            "100%|██████████| 8/8 [00:00<00:00, 13.01it/s]\n"
          ],
          "name": "stderr"
        },
        {
          "output_type": "stream",
          "text": [
            "\n",
            ">>>> end of training for epoch 26, train loss: 3.0075, train PPL: 20.2372\n",
            ">>>> end of validation for epoch 26, valid loss: 4.1933, valid PPL: 66.2403\n",
            "\n",
            ">>>> training starts for epoch 27\n",
            ">>>> please wait while the model is training....................\n"
          ],
          "name": "stdout"
        },
        {
          "output_type": "stream",
          "text": [
            "100%|██████████| 227/227 [01:28<00:00,  2.55it/s]\n",
            "100%|██████████| 8/8 [00:00<00:00, 13.04it/s]\n"
          ],
          "name": "stderr"
        },
        {
          "output_type": "stream",
          "text": [
            "\n",
            ">>>> end of training for epoch 27, train loss: 2.9978, train PPL: 20.0406\n",
            ">>>> end of validation for epoch 27, valid loss: 4.1939, valid PPL: 66.2808\n",
            "\n",
            ">>>> training starts for epoch 28\n",
            ">>>> please wait while the model is training....................\n"
          ],
          "name": "stdout"
        },
        {
          "output_type": "stream",
          "text": [
            "100%|██████████| 227/227 [01:28<00:00,  2.56it/s]\n",
            "100%|██████████| 8/8 [00:00<00:00, 12.95it/s]\n"
          ],
          "name": "stderr"
        },
        {
          "output_type": "stream",
          "text": [
            "\n",
            ">>>> end of training for epoch 28, train loss: 2.9883, train PPL: 19.8514\n",
            ">>>> end of validation for epoch 28, valid loss: 4.2211, valid PPL: 68.1062\n",
            "\n",
            ">>>> training starts for epoch 29\n",
            ">>>> please wait while the model is training....................\n"
          ],
          "name": "stdout"
        },
        {
          "output_type": "stream",
          "text": [
            "100%|██████████| 227/227 [01:28<00:00,  2.56it/s]\n",
            "100%|██████████| 8/8 [00:00<00:00, 13.01it/s]\n"
          ],
          "name": "stderr"
        },
        {
          "output_type": "stream",
          "text": [
            "\n",
            ">>>> end of training for epoch 29, train loss: 2.9814, train PPL: 19.7149\n",
            ">>>> end of validation for epoch 29, valid loss: 4.2066, valid PPL: 67.1288\n",
            "\n",
            ">>>> training starts for epoch 30\n",
            ">>>> please wait while the model is training....................\n"
          ],
          "name": "stdout"
        },
        {
          "output_type": "stream",
          "text": [
            "100%|██████████| 227/227 [01:28<00:00,  2.55it/s]\n",
            "100%|██████████| 8/8 [00:00<00:00, 13.02it/s]\n"
          ],
          "name": "stderr"
        },
        {
          "output_type": "stream",
          "text": [
            "\n",
            ">>>> end of training for epoch 30, train loss: 2.9746, train PPL: 19.5811\n",
            ">>>> end of validation for epoch 30, valid loss: 4.2189, valid PPL: 67.9614\n",
            "\n",
            ">>>> training starts for epoch 31\n",
            ">>>> please wait while the model is training....................\n"
          ],
          "name": "stdout"
        },
        {
          "output_type": "stream",
          "text": [
            "100%|██████████| 227/227 [01:28<00:00,  2.57it/s]\n",
            "100%|██████████| 8/8 [00:00<00:00, 13.03it/s]\n"
          ],
          "name": "stderr"
        },
        {
          "output_type": "stream",
          "text": [
            "\n",
            ">>>> end of training for epoch 31, train loss: 2.9670, train PPL: 19.4331\n",
            ">>>> end of validation for epoch 31, valid loss: 4.2179, valid PPL: 67.8898\n",
            "\n",
            ">>>> training starts for epoch 32\n",
            ">>>> please wait while the model is training....................\n"
          ],
          "name": "stdout"
        },
        {
          "output_type": "stream",
          "text": [
            "100%|██████████| 227/227 [01:28<00:00,  2.57it/s]\n",
            "100%|██████████| 8/8 [00:00<00:00, 13.02it/s]\n"
          ],
          "name": "stderr"
        },
        {
          "output_type": "stream",
          "text": [
            "\n",
            ">>>> end of training for epoch 32, train loss: 2.9631, train PPL: 19.3582\n",
            ">>>> end of validation for epoch 32, valid loss: 4.2098, valid PPL: 67.3436\n",
            "\n",
            ">>>> training starts for epoch 33\n",
            ">>>> please wait while the model is training....................\n"
          ],
          "name": "stdout"
        },
        {
          "output_type": "stream",
          "text": [
            "100%|██████████| 227/227 [01:28<00:00,  2.56it/s]\n",
            "100%|██████████| 8/8 [00:00<00:00, 13.14it/s]\n"
          ],
          "name": "stderr"
        },
        {
          "output_type": "stream",
          "text": [
            "\n",
            ">>>> end of training for epoch 33, train loss: 2.9565, train PPL: 19.2305\n",
            ">>>> end of validation for epoch 33, valid loss: 4.2180, valid PPL: 67.8987\n",
            "\n",
            ">>>> training starts for epoch 34\n",
            ">>>> please wait while the model is training....................\n"
          ],
          "name": "stdout"
        },
        {
          "output_type": "stream",
          "text": [
            "100%|██████████| 227/227 [01:28<00:00,  2.55it/s]\n",
            "100%|██████████| 8/8 [00:00<00:00, 13.01it/s]\n"
          ],
          "name": "stderr"
        },
        {
          "output_type": "stream",
          "text": [
            "\n",
            ">>>> end of training for epoch 34, train loss: 2.9536, train PPL: 19.1753\n",
            ">>>> end of validation for epoch 34, valid loss: 4.2159, valid PPL: 67.7532\n",
            "\n",
            ">>>> training starts for epoch 35\n",
            ">>>> please wait while the model is training....................\n"
          ],
          "name": "stdout"
        },
        {
          "output_type": "stream",
          "text": [
            "100%|██████████| 227/227 [01:28<00:00,  2.56it/s]\n",
            "100%|██████████| 8/8 [00:00<00:00, 13.11it/s]\n"
          ],
          "name": "stderr"
        },
        {
          "output_type": "stream",
          "text": [
            "\n",
            ">>>> end of training for epoch 35, train loss: 2.9460, train PPL: 19.0293\n",
            ">>>> end of validation for epoch 35, valid loss: 4.2217, valid PPL: 68.1463\n",
            "\n",
            ">>>> training starts for epoch 36\n",
            ">>>> please wait while the model is training....................\n"
          ],
          "name": "stdout"
        },
        {
          "output_type": "stream",
          "text": [
            "100%|██████████| 227/227 [01:28<00:00,  2.56it/s]\n",
            "100%|██████████| 8/8 [00:00<00:00, 12.95it/s]\n"
          ],
          "name": "stderr"
        },
        {
          "output_type": "stream",
          "text": [
            "\n",
            ">>>> end of training for epoch 36, train loss: 2.9410, train PPL: 18.9349\n",
            ">>>> end of validation for epoch 36, valid loss: 4.2424, valid PPL: 69.5775\n",
            "\n",
            ">>>> training starts for epoch 37\n",
            ">>>> please wait while the model is training....................\n"
          ],
          "name": "stdout"
        },
        {
          "output_type": "stream",
          "text": [
            "100%|██████████| 227/227 [01:28<00:00,  2.57it/s]\n",
            "100%|██████████| 8/8 [00:00<00:00, 13.01it/s]\n"
          ],
          "name": "stderr"
        },
        {
          "output_type": "stream",
          "text": [
            "\n",
            ">>>> end of training for epoch 37, train loss: 2.9358, train PPL: 18.8365\n",
            ">>>> end of validation for epoch 37, valid loss: 4.2350, valid PPL: 69.0614\n",
            "\n",
            ">>>> training starts for epoch 38\n",
            ">>>> please wait while the model is training....................\n"
          ],
          "name": "stdout"
        },
        {
          "output_type": "stream",
          "text": [
            "100%|██████████| 227/227 [01:29<00:00,  2.55it/s]\n",
            "100%|██████████| 8/8 [00:00<00:00, 12.99it/s]\n"
          ],
          "name": "stderr"
        },
        {
          "output_type": "stream",
          "text": [
            "\n",
            ">>>> end of training for epoch 38, train loss: 2.9318, train PPL: 18.7619\n",
            ">>>> end of validation for epoch 38, valid loss: 4.2401, valid PPL: 69.4120\n",
            "\n",
            ">>>> training starts for epoch 39\n",
            ">>>> please wait while the model is training....................\n"
          ],
          "name": "stdout"
        },
        {
          "output_type": "stream",
          "text": [
            "100%|██████████| 227/227 [01:29<00:00,  2.54it/s]\n",
            "100%|██████████| 8/8 [00:00<00:00, 13.01it/s]\n"
          ],
          "name": "stderr"
        },
        {
          "output_type": "stream",
          "text": [
            "\n",
            ">>>> end of training for epoch 39, train loss: 2.9274, train PPL: 18.6785\n",
            ">>>> end of validation for epoch 39, valid loss: 4.2353, valid PPL: 69.0830\n",
            "\n",
            ">>>> training starts for epoch 40\n",
            ">>>> please wait while the model is training....................\n"
          ],
          "name": "stdout"
        },
        {
          "output_type": "stream",
          "text": [
            "100%|██████████| 227/227 [01:28<00:00,  2.57it/s]\n",
            "100%|██████████| 8/8 [00:00<00:00, 12.81it/s]\n"
          ],
          "name": "stderr"
        },
        {
          "output_type": "stream",
          "text": [
            "\n",
            ">>>> end of training for epoch 40, train loss: 2.9256, train PPL: 18.6448\n",
            ">>>> end of validation for epoch 40, valid loss: 4.2522, valid PPL: 70.2576\n",
            "\n",
            ">>>> training starts for epoch 41\n",
            ">>>> please wait while the model is training....................\n"
          ],
          "name": "stdout"
        },
        {
          "output_type": "stream",
          "text": [
            "100%|██████████| 227/227 [01:28<00:00,  2.55it/s]\n",
            "100%|██████████| 8/8 [00:00<00:00, 12.99it/s]\n"
          ],
          "name": "stderr"
        },
        {
          "output_type": "stream",
          "text": [
            "\n",
            ">>>> end of training for epoch 41, train loss: 2.9205, train PPL: 18.5507\n",
            ">>>> end of validation for epoch 41, valid loss: 4.2355, valid PPL: 69.0973\n",
            "\n",
            ">>>> training starts for epoch 42\n",
            ">>>> please wait while the model is training....................\n"
          ],
          "name": "stdout"
        },
        {
          "output_type": "stream",
          "text": [
            "100%|██████████| 227/227 [01:29<00:00,  2.54it/s]\n",
            "100%|██████████| 8/8 [00:00<00:00, 12.91it/s]\n"
          ],
          "name": "stderr"
        },
        {
          "output_type": "stream",
          "text": [
            "\n",
            ">>>> end of training for epoch 42, train loss: 2.9165, train PPL: 18.4757\n",
            ">>>> end of validation for epoch 42, valid loss: 4.2620, valid PPL: 70.9548\n",
            "\n",
            ">>>> training starts for epoch 43\n",
            ">>>> please wait while the model is training....................\n"
          ],
          "name": "stdout"
        },
        {
          "output_type": "stream",
          "text": [
            "100%|██████████| 227/227 [01:29<00:00,  2.53it/s]\n",
            "100%|██████████| 8/8 [00:00<00:00, 12.95it/s]\n"
          ],
          "name": "stderr"
        },
        {
          "output_type": "stream",
          "text": [
            "\n",
            ">>>> end of training for epoch 43, train loss: 2.9157, train PPL: 18.4608\n",
            ">>>> end of validation for epoch 43, valid loss: 4.2535, valid PPL: 70.3538\n",
            "\n",
            ">>>> training starts for epoch 44\n",
            ">>>> please wait while the model is training....................\n"
          ],
          "name": "stdout"
        },
        {
          "output_type": "stream",
          "text": [
            "100%|██████████| 227/227 [01:28<00:00,  2.58it/s]\n",
            "100%|██████████| 8/8 [00:00<00:00, 12.87it/s]\n"
          ],
          "name": "stderr"
        },
        {
          "output_type": "stream",
          "text": [
            "\n",
            ">>>> end of training for epoch 44, train loss: 2.9108, train PPL: 18.3714\n",
            ">>>> end of validation for epoch 44, valid loss: 4.2525, valid PPL: 70.2834\n",
            "\n",
            ">>>> training starts for epoch 45\n",
            ">>>> please wait while the model is training....................\n"
          ],
          "name": "stdout"
        },
        {
          "output_type": "stream",
          "text": [
            "100%|██████████| 227/227 [01:28<00:00,  2.56it/s]\n",
            "100%|██████████| 8/8 [00:00<00:00, 12.97it/s]\n"
          ],
          "name": "stderr"
        },
        {
          "output_type": "stream",
          "text": [
            "\n",
            ">>>> end of training for epoch 45, train loss: 2.9081, train PPL: 18.3220\n",
            ">>>> end of validation for epoch 45, valid loss: 4.2404, valid PPL: 69.4344\n",
            "\n",
            ">>>> training starts for epoch 46\n",
            ">>>> please wait while the model is training....................\n"
          ],
          "name": "stdout"
        },
        {
          "output_type": "stream",
          "text": [
            "100%|██████████| 227/227 [01:28<00:00,  2.55it/s]\n",
            "100%|██████████| 8/8 [00:00<00:00, 12.90it/s]\n"
          ],
          "name": "stderr"
        },
        {
          "output_type": "stream",
          "text": [
            "\n",
            ">>>> end of training for epoch 46, train loss: 2.9050, train PPL: 18.2656\n",
            ">>>> end of validation for epoch 46, valid loss: 4.2556, valid PPL: 70.5010\n",
            "\n",
            ">>>> training starts for epoch 47\n",
            ">>>> please wait while the model is training....................\n"
          ],
          "name": "stdout"
        },
        {
          "output_type": "stream",
          "text": [
            "100%|██████████| 227/227 [01:28<00:00,  2.55it/s]\n",
            "100%|██████████| 8/8 [00:00<00:00, 12.86it/s]\n"
          ],
          "name": "stderr"
        },
        {
          "output_type": "stream",
          "text": [
            "\n",
            ">>>> end of training for epoch 47, train loss: 2.9021, train PPL: 18.2130\n",
            ">>>> end of validation for epoch 47, valid loss: 4.2685, valid PPL: 71.4146\n",
            "\n",
            ">>>> training starts for epoch 48\n",
            ">>>> please wait while the model is training....................\n"
          ],
          "name": "stdout"
        },
        {
          "output_type": "stream",
          "text": [
            "100%|██████████| 227/227 [01:28<00:00,  2.56it/s]\n",
            "100%|██████████| 8/8 [00:00<00:00, 12.93it/s]\n"
          ],
          "name": "stderr"
        },
        {
          "output_type": "stream",
          "text": [
            "\n",
            ">>>> end of training for epoch 48, train loss: 2.8974, train PPL: 18.1266\n",
            ">>>> end of validation for epoch 48, valid loss: 4.2606, valid PPL: 70.8547\n",
            "\n",
            ">>>> training starts for epoch 49\n",
            ">>>> please wait while the model is training....................\n"
          ],
          "name": "stdout"
        },
        {
          "output_type": "stream",
          "text": [
            "100%|██████████| 227/227 [01:29<00:00,  2.55it/s]\n",
            "100%|██████████| 8/8 [00:00<00:00, 13.01it/s]\n"
          ],
          "name": "stderr"
        },
        {
          "output_type": "stream",
          "text": [
            "\n",
            ">>>> end of training for epoch 49, train loss: 2.8947, train PPL: 18.0788\n",
            ">>>> end of validation for epoch 49, valid loss: 4.2638, valid PPL: 71.0805\n",
            "\n",
            ">>>> training starts for epoch 50\n",
            ">>>> please wait while the model is training....................\n"
          ],
          "name": "stdout"
        },
        {
          "output_type": "stream",
          "text": [
            "100%|██████████| 227/227 [01:28<00:00,  2.56it/s]\n",
            "100%|██████████| 8/8 [00:00<00:00, 12.89it/s]\n"
          ],
          "name": "stderr"
        },
        {
          "output_type": "stream",
          "text": [
            "\n",
            ">>>> end of training for epoch 50, train loss: 2.8919, train PPL: 18.0274\n",
            ">>>> end of validation for epoch 50, valid loss: 4.2557, valid PPL: 70.5091\n",
            "\n",
            ">>>> training starts for epoch 51\n",
            ">>>> please wait while the model is training....................\n"
          ],
          "name": "stdout"
        },
        {
          "output_type": "stream",
          "text": [
            "100%|██████████| 227/227 [01:29<00:00,  2.53it/s]\n",
            "100%|██████████| 8/8 [00:00<00:00, 13.04it/s]\n"
          ],
          "name": "stderr"
        },
        {
          "output_type": "stream",
          "text": [
            "\n",
            ">>>> end of training for epoch 51, train loss: 2.8904, train PPL: 18.0011\n",
            ">>>> end of validation for epoch 51, valid loss: 4.2643, valid PPL: 71.1171\n",
            "\n",
            ">>>> training starts for epoch 52\n",
            ">>>> please wait while the model is training....................\n"
          ],
          "name": "stdout"
        },
        {
          "output_type": "stream",
          "text": [
            "100%|██████████| 227/227 [01:28<00:00,  2.56it/s]\n",
            "100%|██████████| 8/8 [00:00<00:00, 12.90it/s]\n"
          ],
          "name": "stderr"
        },
        {
          "output_type": "stream",
          "text": [
            "\n",
            ">>>> end of training for epoch 52, train loss: 2.8876, train PPL: 17.9495\n",
            ">>>> end of validation for epoch 52, valid loss: 4.2712, valid PPL: 71.6095\n",
            "\n",
            ">>>> training starts for epoch 53\n",
            ">>>> please wait while the model is training....................\n"
          ],
          "name": "stdout"
        },
        {
          "output_type": "stream",
          "text": [
            "100%|██████████| 227/227 [01:29<00:00,  2.53it/s]\n",
            "100%|██████████| 8/8 [00:00<00:00, 12.84it/s]\n"
          ],
          "name": "stderr"
        },
        {
          "output_type": "stream",
          "text": [
            "\n",
            ">>>> end of training for epoch 53, train loss: 2.8863, train PPL: 17.9274\n",
            ">>>> end of validation for epoch 53, valid loss: 4.2625, valid PPL: 70.9901\n",
            "\n",
            ">>>> training starts for epoch 54\n",
            ">>>> please wait while the model is training....................\n"
          ],
          "name": "stdout"
        },
        {
          "output_type": "stream",
          "text": [
            "100%|██████████| 227/227 [01:29<00:00,  2.55it/s]\n",
            "100%|██████████| 8/8 [00:00<00:00, 12.91it/s]\n"
          ],
          "name": "stderr"
        },
        {
          "output_type": "stream",
          "text": [
            "\n",
            ">>>> end of training for epoch 54, train loss: 2.8854, train PPL: 17.9110\n",
            ">>>> end of validation for epoch 54, valid loss: 4.2670, valid PPL: 71.3078\n",
            "\n",
            ">>>> training starts for epoch 55\n",
            ">>>> please wait while the model is training....................\n"
          ],
          "name": "stdout"
        },
        {
          "output_type": "stream",
          "text": [
            "100%|██████████| 227/227 [01:28<00:00,  2.56it/s]\n",
            "100%|██████████| 8/8 [00:00<00:00, 12.89it/s]\n"
          ],
          "name": "stderr"
        },
        {
          "output_type": "stream",
          "text": [
            "\n",
            ">>>> end of training for epoch 55, train loss: 2.8807, train PPL: 17.8265\n",
            ">>>> end of validation for epoch 55, valid loss: 4.2567, valid PPL: 70.5753\n",
            "\n",
            ">>>> training starts for epoch 56\n",
            ">>>> please wait while the model is training....................\n"
          ],
          "name": "stdout"
        },
        {
          "output_type": "stream",
          "text": [
            "100%|██████████| 227/227 [01:28<00:00,  2.57it/s]\n",
            "100%|██████████| 8/8 [00:00<00:00, 12.96it/s]\n"
          ],
          "name": "stderr"
        },
        {
          "output_type": "stream",
          "text": [
            "\n",
            ">>>> end of training for epoch 56, train loss: 2.8785, train PPL: 17.7880\n",
            ">>>> end of validation for epoch 56, valid loss: 4.2837, valid PPL: 72.5074\n",
            "\n",
            ">>>> training starts for epoch 57\n",
            ">>>> please wait while the model is training....................\n"
          ],
          "name": "stdout"
        },
        {
          "output_type": "stream",
          "text": [
            "100%|██████████| 227/227 [01:28<00:00,  2.56it/s]\n",
            "100%|██████████| 8/8 [00:00<00:00, 12.89it/s]\n"
          ],
          "name": "stderr"
        },
        {
          "output_type": "stream",
          "text": [
            "\n",
            ">>>> end of training for epoch 57, train loss: 2.8771, train PPL: 17.7619\n",
            ">>>> end of validation for epoch 57, valid loss: 4.2665, valid PPL: 71.2683\n",
            "\n",
            ">>>> training starts for epoch 58\n",
            ">>>> please wait while the model is training....................\n"
          ],
          "name": "stdout"
        },
        {
          "output_type": "stream",
          "text": [
            "100%|██████████| 227/227 [01:29<00:00,  2.55it/s]\n",
            "100%|██████████| 8/8 [00:00<00:00, 12.90it/s]\n"
          ],
          "name": "stderr"
        },
        {
          "output_type": "stream",
          "text": [
            "\n",
            ">>>> end of training for epoch 58, train loss: 2.8764, train PPL: 17.7511\n",
            ">>>> end of validation for epoch 58, valid loss: 4.2686, valid PPL: 71.4188\n",
            "\n",
            ">>>> training starts for epoch 59\n",
            ">>>> please wait while the model is training....................\n"
          ],
          "name": "stdout"
        },
        {
          "output_type": "stream",
          "text": [
            "100%|██████████| 227/227 [01:28<00:00,  2.56it/s]\n",
            "100%|██████████| 8/8 [00:00<00:00, 12.89it/s]\n"
          ],
          "name": "stderr"
        },
        {
          "output_type": "stream",
          "text": [
            "\n",
            ">>>> end of training for epoch 59, train loss: 2.8717, train PPL: 17.6673\n",
            ">>>> end of validation for epoch 59, valid loss: 4.2799, valid PPL: 72.2299\n",
            "\n",
            ">>>> training starts for epoch 60\n",
            ">>>> please wait while the model is training....................\n"
          ],
          "name": "stdout"
        },
        {
          "output_type": "stream",
          "text": [
            "100%|██████████| 227/227 [01:28<00:00,  2.58it/s]\n",
            "100%|██████████| 8/8 [00:00<00:00, 12.78it/s]\n"
          ],
          "name": "stderr"
        },
        {
          "output_type": "stream",
          "text": [
            "\n",
            ">>>> end of training for epoch 60, train loss: 2.8722, train PPL: 17.6762\n",
            ">>>> end of validation for epoch 60, valid loss: 4.2876, valid PPL: 72.7945\n",
            "\n",
            ">>>> training starts for epoch 61\n",
            ">>>> please wait while the model is training....................\n"
          ],
          "name": "stdout"
        },
        {
          "output_type": "stream",
          "text": [
            "100%|██████████| 227/227 [01:28<00:00,  2.56it/s]\n",
            "100%|██████████| 8/8 [00:00<00:00, 12.87it/s]\n"
          ],
          "name": "stderr"
        },
        {
          "output_type": "stream",
          "text": [
            "\n",
            ">>>> end of training for epoch 61, train loss: 2.8673, train PPL: 17.5893\n",
            ">>>> end of validation for epoch 61, valid loss: 4.2834, valid PPL: 72.4860\n",
            "\n",
            ">>>> training starts for epoch 62\n",
            ">>>> please wait while the model is training....................\n"
          ],
          "name": "stdout"
        },
        {
          "output_type": "stream",
          "text": [
            "100%|██████████| 227/227 [01:29<00:00,  2.55it/s]\n",
            "100%|██████████| 8/8 [00:00<00:00, 12.93it/s]\n"
          ],
          "name": "stderr"
        },
        {
          "output_type": "stream",
          "text": [
            "\n",
            ">>>> end of training for epoch 62, train loss: 2.8657, train PPL: 17.5617\n",
            ">>>> end of validation for epoch 62, valid loss: 4.2814, valid PPL: 72.3412\n",
            "\n",
            ">>>> training starts for epoch 63\n",
            ">>>> please wait while the model is training....................\n"
          ],
          "name": "stdout"
        },
        {
          "output_type": "stream",
          "text": [
            "100%|██████████| 227/227 [01:29<00:00,  2.54it/s]\n",
            "100%|██████████| 8/8 [00:00<00:00, 12.93it/s]\n"
          ],
          "name": "stderr"
        },
        {
          "output_type": "stream",
          "text": [
            "\n",
            ">>>> end of training for epoch 63, train loss: 2.8649, train PPL: 17.5466\n",
            ">>>> end of validation for epoch 63, valid loss: 4.2930, valid PPL: 73.1842\n",
            "\n",
            ">>>> training starts for epoch 64\n",
            ">>>> please wait while the model is training....................\n"
          ],
          "name": "stdout"
        },
        {
          "output_type": "stream",
          "text": [
            "100%|██████████| 227/227 [01:28<00:00,  2.57it/s]\n",
            "100%|██████████| 8/8 [00:00<00:00, 12.92it/s]\n"
          ],
          "name": "stderr"
        },
        {
          "output_type": "stream",
          "text": [
            "\n",
            ">>>> end of training for epoch 64, train loss: 2.8614, train PPL: 17.4853\n",
            ">>>> end of validation for epoch 64, valid loss: 4.2928, valid PPL: 73.1723\n",
            "\n",
            ">>>> training starts for epoch 65\n",
            ">>>> please wait while the model is training....................\n"
          ],
          "name": "stdout"
        },
        {
          "output_type": "stream",
          "text": [
            "100%|██████████| 227/227 [01:29<00:00,  2.55it/s]\n",
            "100%|██████████| 8/8 [00:00<00:00, 12.94it/s]\n"
          ],
          "name": "stderr"
        },
        {
          "output_type": "stream",
          "text": [
            "\n",
            ">>>> end of training for epoch 65, train loss: 2.8596, train PPL: 17.4545\n",
            ">>>> end of validation for epoch 65, valid loss: 4.2874, valid PPL: 72.7736\n",
            "\n",
            ">>>> training starts for epoch 66\n",
            ">>>> please wait while the model is training....................\n"
          ],
          "name": "stdout"
        },
        {
          "output_type": "stream",
          "text": [
            "100%|██████████| 227/227 [01:29<00:00,  2.54it/s]\n",
            "100%|██████████| 8/8 [00:00<00:00, 13.00it/s]\n"
          ],
          "name": "stderr"
        },
        {
          "output_type": "stream",
          "text": [
            "\n",
            ">>>> end of training for epoch 66, train loss: 2.8581, train PPL: 17.4281\n",
            ">>>> end of validation for epoch 66, valid loss: 4.2920, valid PPL: 73.1124\n",
            "\n",
            ">>>> training starts for epoch 67\n",
            ">>>> please wait while the model is training....................\n"
          ],
          "name": "stdout"
        },
        {
          "output_type": "stream",
          "text": [
            "100%|██████████| 227/227 [01:28<00:00,  2.56it/s]\n",
            "100%|██████████| 8/8 [00:00<00:00, 12.91it/s]\n"
          ],
          "name": "stderr"
        },
        {
          "output_type": "stream",
          "text": [
            "\n",
            ">>>> end of training for epoch 67, train loss: 2.8564, train PPL: 17.3979\n",
            ">>>> end of validation for epoch 67, valid loss: 4.2807, valid PPL: 72.2900\n",
            "\n",
            ">>>> training starts for epoch 68\n",
            ">>>> please wait while the model is training....................\n"
          ],
          "name": "stdout"
        },
        {
          "output_type": "stream",
          "text": [
            "100%|██████████| 227/227 [01:28<00:00,  2.56it/s]\n",
            "100%|██████████| 8/8 [00:00<00:00, 12.87it/s]\n"
          ],
          "name": "stderr"
        },
        {
          "output_type": "stream",
          "text": [
            "\n",
            ">>>> end of training for epoch 68, train loss: 2.8562, train PPL: 17.3957\n",
            ">>>> end of validation for epoch 68, valid loss: 4.2878, valid PPL: 72.8084\n",
            "\n",
            ">>>> training starts for epoch 69\n",
            ">>>> please wait while the model is training....................\n"
          ],
          "name": "stdout"
        },
        {
          "output_type": "stream",
          "text": [
            "100%|██████████| 227/227 [01:28<00:00,  2.56it/s]\n",
            "100%|██████████| 8/8 [00:00<00:00, 12.96it/s]\n"
          ],
          "name": "stderr"
        },
        {
          "output_type": "stream",
          "text": [
            "\n",
            ">>>> end of training for epoch 69, train loss: 2.8546, train PPL: 17.3683\n",
            ">>>> end of validation for epoch 69, valid loss: 4.2916, valid PPL: 73.0858\n",
            "\n",
            ">>>> training starts for epoch 70\n",
            ">>>> please wait while the model is training....................\n"
          ],
          "name": "stdout"
        },
        {
          "output_type": "stream",
          "text": [
            "100%|██████████| 227/227 [01:29<00:00,  2.54it/s]\n",
            "100%|██████████| 8/8 [00:00<00:00, 12.90it/s]\n"
          ],
          "name": "stderr"
        },
        {
          "output_type": "stream",
          "text": [
            "\n",
            ">>>> end of training for epoch 70, train loss: 2.8520, train PPL: 17.3224\n",
            ">>>> end of validation for epoch 70, valid loss: 4.3013, valid PPL: 73.7977\n",
            "\n",
            ">>>> training starts for epoch 71\n",
            ">>>> please wait while the model is training....................\n"
          ],
          "name": "stdout"
        },
        {
          "output_type": "stream",
          "text": [
            "100%|██████████| 227/227 [01:28<00:00,  2.56it/s]\n",
            "100%|██████████| 8/8 [00:00<00:00, 12.94it/s]\n"
          ],
          "name": "stderr"
        },
        {
          "output_type": "stream",
          "text": [
            "\n",
            ">>>> end of training for epoch 71, train loss: 2.8509, train PPL: 17.3042\n",
            ">>>> end of validation for epoch 71, valid loss: 4.3010, valid PPL: 73.7715\n",
            "\n",
            ">>>> training starts for epoch 72\n",
            ">>>> please wait while the model is training....................\n"
          ],
          "name": "stdout"
        },
        {
          "output_type": "stream",
          "text": [
            "100%|██████████| 227/227 [01:29<00:00,  2.53it/s]\n",
            "100%|██████████| 8/8 [00:00<00:00, 12.93it/s]\n"
          ],
          "name": "stderr"
        },
        {
          "output_type": "stream",
          "text": [
            "\n",
            ">>>> end of training for epoch 72, train loss: 2.8480, train PPL: 17.2538\n",
            ">>>> end of validation for epoch 72, valid loss: 4.3062, valid PPL: 74.1568\n",
            "\n",
            ">>>> training starts for epoch 73\n",
            ">>>> please wait while the model is training....................\n"
          ],
          "name": "stdout"
        },
        {
          "output_type": "stream",
          "text": [
            "100%|██████████| 227/227 [01:28<00:00,  2.57it/s]\n",
            "100%|██████████| 8/8 [00:00<00:00, 12.91it/s]\n"
          ],
          "name": "stderr"
        },
        {
          "output_type": "stream",
          "text": [
            "\n",
            ">>>> end of training for epoch 73, train loss: 2.8481, train PPL: 17.2554\n",
            ">>>> end of validation for epoch 73, valid loss: 4.2976, valid PPL: 73.5266\n",
            "\n",
            ">>>> training starts for epoch 74\n",
            ">>>> please wait while the model is training....................\n"
          ],
          "name": "stdout"
        },
        {
          "output_type": "stream",
          "text": [
            "100%|██████████| 227/227 [01:29<00:00,  2.54it/s]\n",
            "100%|██████████| 8/8 [00:00<00:00, 12.92it/s]\n"
          ],
          "name": "stderr"
        },
        {
          "output_type": "stream",
          "text": [
            "\n",
            ">>>> end of training for epoch 74, train loss: 2.8471, train PPL: 17.2373\n",
            ">>>> end of validation for epoch 74, valid loss: 4.3092, valid PPL: 74.3776\n",
            "\n",
            ">>>> training starts for epoch 75\n",
            ">>>> please wait while the model is training....................\n"
          ],
          "name": "stdout"
        },
        {
          "output_type": "stream",
          "text": [
            "100%|██████████| 227/227 [01:28<00:00,  2.57it/s]\n",
            "100%|██████████| 8/8 [00:00<00:00, 12.96it/s]\n"
          ],
          "name": "stderr"
        },
        {
          "output_type": "stream",
          "text": [
            "\n",
            ">>>> end of training for epoch 75, train loss: 2.8440, train PPL: 17.1842\n",
            ">>>> end of validation for epoch 75, valid loss: 4.3028, valid PPL: 73.9088\n",
            "\n",
            ">>>> training starts for epoch 76\n",
            ">>>> please wait while the model is training....................\n"
          ],
          "name": "stdout"
        },
        {
          "output_type": "stream",
          "text": [
            "100%|██████████| 227/227 [01:29<00:00,  2.54it/s]\n",
            "100%|██████████| 8/8 [00:00<00:00, 12.88it/s]\n"
          ],
          "name": "stderr"
        },
        {
          "output_type": "stream",
          "text": [
            "\n",
            ">>>> end of training for epoch 76, train loss: 2.8424, train PPL: 17.1574\n",
            ">>>> end of validation for epoch 76, valid loss: 4.2927, valid PPL: 73.1606\n",
            "\n",
            ">>>> training starts for epoch 77\n",
            ">>>> please wait while the model is training....................\n"
          ],
          "name": "stdout"
        },
        {
          "output_type": "stream",
          "text": [
            "100%|██████████| 227/227 [01:28<00:00,  2.57it/s]\n",
            "100%|██████████| 8/8 [00:00<00:00, 12.97it/s]\n"
          ],
          "name": "stderr"
        },
        {
          "output_type": "stream",
          "text": [
            "\n",
            ">>>> end of training for epoch 77, train loss: 2.8429, train PPL: 17.1653\n",
            ">>>> end of validation for epoch 77, valid loss: 4.2982, valid PPL: 73.5699\n",
            "\n",
            ">>>> training starts for epoch 78\n",
            ">>>> please wait while the model is training....................\n"
          ],
          "name": "stdout"
        },
        {
          "output_type": "stream",
          "text": [
            "100%|██████████| 227/227 [01:29<00:00,  2.54it/s]\n",
            "100%|██████████| 8/8 [00:00<00:00, 12.77it/s]\n"
          ],
          "name": "stderr"
        },
        {
          "output_type": "stream",
          "text": [
            "\n",
            ">>>> end of training for epoch 78, train loss: 2.8411, train PPL: 17.1353\n",
            ">>>> end of validation for epoch 78, valid loss: 4.3235, valid PPL: 75.4522\n",
            "\n",
            ">>>> training starts for epoch 79\n",
            ">>>> please wait while the model is training....................\n"
          ],
          "name": "stdout"
        },
        {
          "output_type": "stream",
          "text": [
            "100%|██████████| 227/227 [01:28<00:00,  2.57it/s]\n",
            "100%|██████████| 8/8 [00:00<00:00, 12.99it/s]\n"
          ],
          "name": "stderr"
        },
        {
          "output_type": "stream",
          "text": [
            "\n",
            ">>>> end of training for epoch 79, train loss: 2.8403, train PPL: 17.1216\n",
            ">>>> end of validation for epoch 79, valid loss: 4.3236, valid PPL: 75.4592\n",
            "\n",
            ">>>> training starts for epoch 80\n",
            ">>>> please wait while the model is training....................\n"
          ],
          "name": "stdout"
        },
        {
          "output_type": "stream",
          "text": [
            "100%|██████████| 227/227 [01:28<00:00,  2.56it/s]\n",
            "100%|██████████| 8/8 [00:00<00:00, 12.83it/s]\n"
          ],
          "name": "stderr"
        },
        {
          "output_type": "stream",
          "text": [
            "\n",
            ">>>> end of training for epoch 80, train loss: 2.8398, train PPL: 17.1119\n",
            ">>>> end of validation for epoch 80, valid loss: 4.3103, valid PPL: 74.4624\n",
            "\n",
            ">>>> training starts for epoch 81\n",
            ">>>> please wait while the model is training....................\n"
          ],
          "name": "stdout"
        },
        {
          "output_type": "stream",
          "text": [
            "100%|██████████| 227/227 [01:29<00:00,  2.54it/s]\n",
            "100%|██████████| 8/8 [00:00<00:00, 13.09it/s]\n"
          ],
          "name": "stderr"
        },
        {
          "output_type": "stream",
          "text": [
            "\n",
            ">>>> end of training for epoch 81, train loss: 2.8347, train PPL: 17.0261\n",
            ">>>> end of validation for epoch 81, valid loss: 4.3178, valid PPL: 75.0226\n",
            "\n",
            ">>>> training starts for epoch 82\n",
            ">>>> please wait while the model is training....................\n"
          ],
          "name": "stdout"
        },
        {
          "output_type": "stream",
          "text": [
            "100%|██████████| 227/227 [01:28<00:00,  2.56it/s]\n",
            "100%|██████████| 8/8 [00:00<00:00, 13.00it/s]\n"
          ],
          "name": "stderr"
        },
        {
          "output_type": "stream",
          "text": [
            "\n",
            ">>>> end of training for epoch 82, train loss: 2.8354, train PPL: 17.0380\n",
            ">>>> end of validation for epoch 82, valid loss: 4.3272, valid PPL: 75.7302\n",
            "\n",
            ">>>> training starts for epoch 83\n",
            ">>>> please wait while the model is training....................\n"
          ],
          "name": "stdout"
        },
        {
          "output_type": "stream",
          "text": [
            "100%|██████████| 227/227 [01:28<00:00,  2.56it/s]\n",
            "100%|██████████| 8/8 [00:00<00:00, 12.86it/s]\n"
          ],
          "name": "stderr"
        },
        {
          "output_type": "stream",
          "text": [
            "\n",
            ">>>> end of training for epoch 83, train loss: 2.8352, train PPL: 17.0337\n",
            ">>>> end of validation for epoch 83, valid loss: 4.3123, valid PPL: 74.6114\n",
            "\n",
            ">>>> training starts for epoch 84\n",
            ">>>> please wait while the model is training....................\n"
          ],
          "name": "stdout"
        },
        {
          "output_type": "stream",
          "text": [
            "100%|██████████| 227/227 [01:29<00:00,  2.55it/s]\n",
            "100%|██████████| 8/8 [00:00<00:00, 12.99it/s]\n"
          ],
          "name": "stderr"
        },
        {
          "output_type": "stream",
          "text": [
            "\n",
            ">>>> end of training for epoch 84, train loss: 2.8328, train PPL: 16.9938\n",
            ">>>> end of validation for epoch 84, valid loss: 4.3087, valid PPL: 74.3474\n",
            "\n",
            ">>>> training starts for epoch 85\n",
            ">>>> please wait while the model is training....................\n"
          ],
          "name": "stdout"
        },
        {
          "output_type": "stream",
          "text": [
            "100%|██████████| 227/227 [01:29<00:00,  2.55it/s]\n",
            "100%|██████████| 8/8 [00:00<00:00, 12.89it/s]\n"
          ],
          "name": "stderr"
        },
        {
          "output_type": "stream",
          "text": [
            "\n",
            ">>>> end of training for epoch 85, train loss: 2.8309, train PPL: 16.9613\n",
            ">>>> end of validation for epoch 85, valid loss: 4.3096, valid PPL: 74.4128\n",
            "\n",
            ">>>> training starts for epoch 86\n",
            ">>>> please wait while the model is training....................\n"
          ],
          "name": "stdout"
        },
        {
          "output_type": "stream",
          "text": [
            "100%|██████████| 227/227 [01:28<00:00,  2.57it/s]\n",
            "100%|██████████| 8/8 [00:00<00:00, 12.90it/s]\n"
          ],
          "name": "stderr"
        },
        {
          "output_type": "stream",
          "text": [
            "\n",
            ">>>> end of training for epoch 86, train loss: 2.8299, train PPL: 16.9438\n",
            ">>>> end of validation for epoch 86, valid loss: 4.3177, valid PPL: 75.0166\n",
            "\n",
            ">>>> training starts for epoch 87\n",
            ">>>> please wait while the model is training....................\n"
          ],
          "name": "stdout"
        },
        {
          "output_type": "stream",
          "text": [
            "100%|██████████| 227/227 [01:28<00:00,  2.57it/s]\n",
            "100%|██████████| 8/8 [00:00<00:00, 12.67it/s]\n"
          ],
          "name": "stderr"
        },
        {
          "output_type": "stream",
          "text": [
            "\n",
            ">>>> end of training for epoch 87, train loss: 2.8308, train PPL: 16.9596\n",
            ">>>> end of validation for epoch 87, valid loss: 4.3135, valid PPL: 74.7039\n",
            "\n",
            ">>>> training starts for epoch 88\n",
            ">>>> please wait while the model is training....................\n"
          ],
          "name": "stdout"
        },
        {
          "output_type": "stream",
          "text": [
            "100%|██████████| 227/227 [01:29<00:00,  2.54it/s]\n",
            "100%|██████████| 8/8 [00:00<00:00, 12.86it/s]\n"
          ],
          "name": "stderr"
        },
        {
          "output_type": "stream",
          "text": [
            "\n",
            ">>>> end of training for epoch 88, train loss: 2.8283, train PPL: 16.9168\n",
            ">>>> end of validation for epoch 88, valid loss: 4.3145, valid PPL: 74.7735\n",
            "\n",
            ">>>> training starts for epoch 89\n",
            ">>>> please wait while the model is training....................\n"
          ],
          "name": "stdout"
        },
        {
          "output_type": "stream",
          "text": [
            "100%|██████████| 227/227 [01:29<00:00,  2.54it/s]\n",
            "100%|██████████| 8/8 [00:00<00:00, 13.03it/s]\n"
          ],
          "name": "stderr"
        },
        {
          "output_type": "stream",
          "text": [
            "\n",
            ">>>> end of training for epoch 89, train loss: 2.8270, train PPL: 16.8952\n",
            ">>>> end of validation for epoch 89, valid loss: 4.3308, valid PPL: 76.0068\n",
            "\n",
            ">>>> training starts for epoch 90\n",
            ">>>> please wait while the model is training....................\n"
          ],
          "name": "stdout"
        },
        {
          "output_type": "stream",
          "text": [
            "100%|██████████| 227/227 [01:28<00:00,  2.55it/s]\n",
            "100%|██████████| 8/8 [00:00<00:00, 12.94it/s]\n"
          ],
          "name": "stderr"
        },
        {
          "output_type": "stream",
          "text": [
            "\n",
            ">>>> end of training for epoch 90, train loss: 2.8257, train PPL: 16.8733\n",
            ">>>> end of validation for epoch 90, valid loss: 4.3238, valid PPL: 75.4766\n",
            "\n",
            ">>>> training starts for epoch 91\n",
            ">>>> please wait while the model is training....................\n"
          ],
          "name": "stdout"
        },
        {
          "output_type": "stream",
          "text": [
            "100%|██████████| 227/227 [01:28<00:00,  2.57it/s]\n",
            "100%|██████████| 8/8 [00:00<00:00, 12.94it/s]\n"
          ],
          "name": "stderr"
        },
        {
          "output_type": "stream",
          "text": [
            "\n",
            ">>>> end of training for epoch 91, train loss: 2.8238, train PPL: 16.8410\n",
            ">>>> end of validation for epoch 91, valid loss: 4.3294, valid PPL: 75.8981\n",
            "\n",
            ">>>> training starts for epoch 92\n",
            ">>>> please wait while the model is training....................\n"
          ],
          "name": "stdout"
        },
        {
          "output_type": "stream",
          "text": [
            "100%|██████████| 227/227 [01:29<00:00,  2.55it/s]\n",
            "100%|██████████| 8/8 [00:00<00:00, 12.87it/s]\n"
          ],
          "name": "stderr"
        },
        {
          "output_type": "stream",
          "text": [
            "\n",
            ">>>> end of training for epoch 92, train loss: 2.8234, train PPL: 16.8348\n",
            ">>>> end of validation for epoch 92, valid loss: 4.3202, valid PPL: 75.2008\n",
            "\n",
            ">>>> training starts for epoch 93\n",
            ">>>> please wait while the model is training....................\n"
          ],
          "name": "stdout"
        },
        {
          "output_type": "stream",
          "text": [
            "100%|██████████| 227/227 [01:28<00:00,  2.56it/s]\n",
            "100%|██████████| 8/8 [00:00<00:00, 12.65it/s]\n"
          ],
          "name": "stderr"
        },
        {
          "output_type": "stream",
          "text": [
            "\n",
            ">>>> end of training for epoch 93, train loss: 2.8207, train PPL: 16.7883\n",
            ">>>> end of validation for epoch 93, valid loss: 4.3402, valid PPL: 76.7233\n",
            "\n",
            ">>>> training starts for epoch 94\n",
            ">>>> please wait while the model is training....................\n"
          ],
          "name": "stdout"
        },
        {
          "output_type": "stream",
          "text": [
            "100%|██████████| 227/227 [01:29<00:00,  2.54it/s]\n",
            "100%|██████████| 8/8 [00:00<00:00, 13.01it/s]\n"
          ],
          "name": "stderr"
        },
        {
          "output_type": "stream",
          "text": [
            "\n",
            ">>>> end of training for epoch 94, train loss: 2.8215, train PPL: 16.8013\n",
            ">>>> end of validation for epoch 94, valid loss: 4.3449, valid PPL: 77.0881\n",
            "\n",
            ">>>> training starts for epoch 95\n",
            ">>>> please wait while the model is training....................\n"
          ],
          "name": "stdout"
        },
        {
          "output_type": "stream",
          "text": [
            "100%|██████████| 227/227 [01:28<00:00,  2.56it/s]\n",
            "100%|██████████| 8/8 [00:00<00:00, 12.95it/s]\n"
          ],
          "name": "stderr"
        },
        {
          "output_type": "stream",
          "text": [
            "\n",
            ">>>> end of training for epoch 95, train loss: 2.8212, train PPL: 16.7977\n",
            ">>>> end of validation for epoch 95, valid loss: 4.3304, valid PPL: 75.9741\n",
            "\n",
            ">>>> training starts for epoch 96\n",
            ">>>> please wait while the model is training....................\n"
          ],
          "name": "stdout"
        },
        {
          "output_type": "stream",
          "text": [
            "100%|██████████| 227/227 [01:28<00:00,  2.56it/s]\n",
            "100%|██████████| 8/8 [00:00<00:00, 12.85it/s]\n"
          ],
          "name": "stderr"
        },
        {
          "output_type": "stream",
          "text": [
            "\n",
            ">>>> end of training for epoch 96, train loss: 2.8189, train PPL: 16.7579\n",
            ">>>> end of validation for epoch 96, valid loss: 4.3390, valid PPL: 76.6331\n",
            "\n",
            ">>>> training starts for epoch 97\n",
            ">>>> please wait while the model is training....................\n"
          ],
          "name": "stdout"
        },
        {
          "output_type": "stream",
          "text": [
            "100%|██████████| 227/227 [01:28<00:00,  2.55it/s]\n",
            "100%|██████████| 8/8 [00:00<00:00, 12.76it/s]\n"
          ],
          "name": "stderr"
        },
        {
          "output_type": "stream",
          "text": [
            "\n",
            ">>>> end of training for epoch 97, train loss: 2.8183, train PPL: 16.7489\n",
            ">>>> end of validation for epoch 97, valid loss: 4.3319, valid PPL: 76.0896\n",
            "\n",
            ">>>> training starts for epoch 98\n",
            ">>>> please wait while the model is training....................\n"
          ],
          "name": "stdout"
        },
        {
          "output_type": "stream",
          "text": [
            "100%|██████████| 227/227 [01:29<00:00,  2.54it/s]\n",
            "100%|██████████| 8/8 [00:00<00:00, 13.03it/s]\n"
          ],
          "name": "stderr"
        },
        {
          "output_type": "stream",
          "text": [
            "\n",
            ">>>> end of training for epoch 98, train loss: 2.8186, train PPL: 16.7535\n",
            ">>>> end of validation for epoch 98, valid loss: 4.3320, valid PPL: 76.0978\n",
            "\n",
            ">>>> training starts for epoch 99\n",
            ">>>> please wait while the model is training....................\n"
          ],
          "name": "stdout"
        },
        {
          "output_type": "stream",
          "text": [
            "100%|██████████| 227/227 [01:28<00:00,  2.55it/s]\n",
            "100%|██████████| 8/8 [00:00<00:00, 12.79it/s]\n"
          ],
          "name": "stderr"
        },
        {
          "output_type": "stream",
          "text": [
            "\n",
            ">>>> end of training for epoch 99, train loss: 2.8177, train PPL: 16.7378\n",
            ">>>> end of validation for epoch 99, valid loss: 4.3337, valid PPL: 76.2265\n",
            "\n",
            ">>>> training starts for epoch 100\n",
            ">>>> please wait while the model is training....................\n"
          ],
          "name": "stdout"
        },
        {
          "output_type": "stream",
          "text": [
            "100%|██████████| 227/227 [01:29<00:00,  2.54it/s]\n",
            "100%|██████████| 8/8 [00:00<00:00, 12.81it/s]"
          ],
          "name": "stderr"
        },
        {
          "output_type": "stream",
          "text": [
            "\n",
            ">>>> end of training for epoch 100, train loss: 2.8157, train PPL: 16.7048\n",
            ">>>> end of validation for epoch 100, valid loss: 4.3327, valid PPL: 76.1484\n",
            "\n",
            ">>>> end of training for 100 epochs: total time elapsed is hrs: 2 min: 28 sec: 49.00\n"
          ],
          "name": "stdout"
        },
        {
          "output_type": "stream",
          "text": [
            "\n"
          ],
          "name": "stderr"
        },
        {
          "output_type": "display_data",
          "data": {
            "text/plain": [
              "ERROR: Failed to launch TensorBoard (exited with 2).\n",
              "Contents of stderr:\n",
              "usage: tensorboard [-h] [--helpfull] [--logdir PATH] [--logdir_spec PATH_SPEC]\n",
              "                   [--host ADDR] [--bind_all] [--port PORT]\n",
              "                   [--reuse_port BOOL] [--load_fast {false,auto,true}]\n",
              "                   [--extra_data_server_flags EXTRA_DATA_SERVER_FLAGS]\n",
              "                   [--grpc_creds_type {local,ssl,ssl_dev}]\n",
              "                   [--grpc_data_provider PORT] [--purge_orphaned_data BOOL]\n",
              "                   [--db URI] [--db_import] [--inspect] [--version_tb]\n",
              "                   [--tag TAG] [--event_file PATH] [--path_prefix PATH]\n",
              "                   [--window_title TEXT] [--max_reload_threads COUNT]\n",
              "                   [--reload_interval SECONDS] [--reload_task TYPE]\n",
              "                   [--reload_multifile BOOL]\n",
              "                   [--reload_multifile_inactive_secs SECONDS]\n",
              "                   [--generic_data TYPE]\n",
              "                   [--samples_per_plugin SAMPLES_PER_PLUGIN]\n",
              "                   [--whatif-use-unsafe-custom-prediction YOUR_CUSTOM_PREDICT_FUNCTION.py]\n",
              "                   [--whatif-data-dir PATH]\n",
              "                   {serve,dev} ...\n",
              "tensorboard: error: invalid choice: 'logs/tensorboard' (choose from 'serve', 'dev')"
            ]
          },
          "metadata": {}
        }
      ]
    },
    {
      "cell_type": "code",
      "metadata": {
        "id": "7K561hev1T3G"
      },
      "source": [
        ""
      ],
      "execution_count": null,
      "outputs": []
    }
  ]
}